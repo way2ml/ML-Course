{
 "cells": [
  {
   "cell_type": "markdown",
   "metadata": {},
   "source": [
    "# 深度神经网络入门 --实践"
   ]
  },
  {
   "cell_type": "markdown",
   "metadata": {},
   "source": [
    "## 1. 神经元\n",
    "![](https://cdn.jsdelivr.net/gh/HuangJiaLian/DataBase0@master/uPic/2021_11_07_18_2021_11_01_11_3CIDZe.jpg)\n",
    "\n",
    "面向对象的思维\n",
    "\n",
    "单个神经元的\n",
    "- 属性有哪些?\n",
    "- 功能有什么?"
   ]
  },
  {
   "cell_type": "markdown",
   "metadata": {},
   "source": [
    "### 先加权求和"
   ]
  },
  {
   "cell_type": "code",
   "execution_count": 272,
   "metadata": {},
   "outputs": [],
   "source": [
    "x1 = 0.1 \n",
    "x2 = 0.5\n",
    "x3 = 0.8"
   ]
  },
  {
   "cell_type": "code",
   "execution_count": 273,
   "metadata": {},
   "outputs": [],
   "source": [
    "# 也可以这样， 一次性赋值\n",
    "w1, w2, w3 = 2, 1, 0.5"
   ]
  },
  {
   "cell_type": "code",
   "execution_count": 274,
   "metadata": {},
   "outputs": [],
   "source": [
    "b = 2.5"
   ]
  },
  {
   "cell_type": "code",
   "execution_count": 275,
   "metadata": {},
   "outputs": [],
   "source": [
    "z = w1 * x1 + w2*x2 + w3*x3 + b"
   ]
  },
  {
   "cell_type": "code",
   "execution_count": 276,
   "metadata": {},
   "outputs": [
    {
     "name": "stdout",
     "output_type": "stream",
     "text": [
      "3.6\n"
     ]
    }
   ],
   "source": [
    "print(z)"
   ]
  },
  {
   "cell_type": "code",
   "execution_count": 277,
   "metadata": {},
   "outputs": [],
   "source": [
    "# 第三方库的导入\n",
    "# 简化一点\n",
    "import numpy as np "
   ]
  },
  {
   "cell_type": "markdown",
   "metadata": {},
   "source": [
    "[![](https://numpy.org/doc/stable/_static/numpylogo.svg)](https://numpy.org/doc/stable/user/whatisnumpy.html)"
   ]
  },
  {
   "cell_type": "code",
   "execution_count": 278,
   "metadata": {},
   "outputs": [
    {
     "name": "stdout",
     "output_type": "stream",
     "text": [
      "[0.1 0.5 0.8]\n",
      "[2.  1.  0.5]\n"
     ]
    }
   ],
   "source": [
    "x = np.array([x1, x2, x3])\n",
    "w = np.array([w1, w2, w3])\n",
    "print(x)\n",
    "print(w)"
   ]
  },
  {
   "cell_type": "code",
   "execution_count": 279,
   "metadata": {},
   "outputs": [
    {
     "name": "stdout",
     "output_type": "stream",
     "text": [
      "3.6\n"
     ]
    }
   ],
   "source": [
    "output = np.dot(x, w) + b\n",
    "print(output)"
   ]
  },
  {
   "cell_type": "markdown",
   "metadata": {},
   "source": [
    "### 说明文档\n",
    "`numpy.dot`的[参考说明](https://numpy.org/doc/stable/reference/generated/numpy.dot.html)\n",
    "\n",
    "- 分一维和二维\n",
    "- 不用记忆"
   ]
  },
  {
   "cell_type": "markdown",
   "metadata": {},
   "source": [
    "### 激活函数\n",
    "\n",
    "$$\n",
    "\\sigma(z) = \\frac{1}{1+e^{-z}}\n",
    "$$"
   ]
  },
  {
   "cell_type": "code",
   "execution_count": 280,
   "metadata": {},
   "outputs": [],
   "source": [
    "# 函数定义\n",
    "def sigmoid(z):\n",
    "    \"\"\"Sigmoid 激活函数\"\"\"\n",
    "    return 1.0/(1.0+np.exp(-z))"
   ]
  },
  {
   "cell_type": "code",
   "execution_count": 281,
   "metadata": {},
   "outputs": [],
   "source": [
    "# 列表: 画出激活函数的图像\n",
    "z_s = [-5, -4, -3, -2, -1, 0, 1, 2, 3, 4, 5]"
   ]
  },
  {
   "cell_type": "code",
   "execution_count": 282,
   "metadata": {},
   "outputs": [],
   "source": [
    "# 新建空的列表\n",
    "a_s = []"
   ]
  },
  {
   "cell_type": "code",
   "execution_count": 283,
   "metadata": {},
   "outputs": [
    {
     "data": {
      "text/plain": [
       "-5"
      ]
     },
     "execution_count": 283,
     "metadata": {},
     "output_type": "execute_result"
    }
   ],
   "source": [
    "# 取 z_s 里面的每一个数(第1个， 第3个， 最后一个， 倒数第2个， 从第二个开始到最后)\n",
    "z_s[0]"
   ]
  },
  {
   "cell_type": "code",
   "execution_count": 284,
   "metadata": {},
   "outputs": [
    {
     "name": "stdout",
     "output_type": "stream",
     "text": [
      "-5\n",
      "-4\n",
      "-3\n",
      "-2\n",
      "-1\n",
      "0\n",
      "1\n",
      "2\n",
      "3\n",
      "4\n",
      "5\n"
     ]
    }
   ],
   "source": [
    "# 循环: 方法1\n",
    "# 取 z_s 里面的每一个数\n",
    "for z in z_s:\n",
    "    print(z)"
   ]
  },
  {
   "cell_type": "code",
   "execution_count": 285,
   "metadata": {},
   "outputs": [
    {
     "name": "stdout",
     "output_type": "stream",
     "text": [
      "0.0066928509242848554\n",
      "0.01798620996209156\n",
      "0.04742587317756678\n",
      "0.11920292202211755\n",
      "0.2689414213699951\n",
      "0.5\n",
      "0.7310585786300049\n",
      "0.8807970779778823\n",
      "0.9525741268224334\n",
      "0.9820137900379085\n",
      "0.9933071490757153\n"
     ]
    }
   ],
   "source": [
    "# 循环\n",
    "for z in z_s:\n",
    "    a = sigmoid(z)\n",
    "    print(a)"
   ]
  },
  {
   "cell_type": "code",
   "execution_count": 286,
   "metadata": {},
   "outputs": [
    {
     "name": "stdout",
     "output_type": "stream",
     "text": [
      "-5\n",
      "-4\n",
      "-3\n",
      "-2\n",
      "-1\n",
      "0\n",
      "1\n",
      "2\n",
      "3\n",
      "4\n",
      "5\n"
     ]
    }
   ],
   "source": [
    "# 循环: 方法2, 用索引号\n",
    "# 取 z_s 里面的每一个数\n",
    "num = len(z_s)\n",
    "for i in range(num):\n",
    "    print(z_s[i])"
   ]
  },
  {
   "cell_type": "code",
   "execution_count": 287,
   "metadata": {},
   "outputs": [],
   "source": [
    "for z in z_s:\n",
    "    a = sigmoid(z)\n",
    "    a_s.append(a)"
   ]
  },
  {
   "cell_type": "code",
   "execution_count": 288,
   "metadata": {},
   "outputs": [
    {
     "data": {
      "text/plain": [
       "[0.0066928509242848554,\n",
       " 0.01798620996209156,\n",
       " 0.04742587317756678,\n",
       " 0.11920292202211755,\n",
       " 0.2689414213699951,\n",
       " 0.5,\n",
       " 0.7310585786300049,\n",
       " 0.8807970779778823,\n",
       " 0.9525741268224334,\n",
       " 0.9820137900379085,\n",
       " 0.9933071490757153]"
      ]
     },
     "execution_count": 288,
     "metadata": {},
     "output_type": "execute_result"
    }
   ],
   "source": [
    "a_s"
   ]
  },
  {
   "cell_type": "markdown",
   "metadata": {},
   "source": [
    "### 作图\n",
    "[<img src='https://matplotlib.org/_static/images/logo2.svg' width='40%'>](https://matplotlib.org/)"
   ]
  },
  {
   "cell_type": "code",
   "execution_count": 289,
   "metadata": {},
   "outputs": [
    {
     "data": {
      "image/png": "[encoded data removed]",
      "text/plain": [
       "<Figure size 432x288 with 1 Axes>"
      ]
     },
     "metadata": {
      "needs_background": "light"
     },
     "output_type": "display_data"
    }
   ],
   "source": [
    "import matplotlib.pyplot as plt \n",
    "plt.plot(z_s, a_s)\n",
    "plt.xlabel('z')\n",
    "plt.ylabel('$\\sigma (z)$')\n",
    "plt.show()"
   ]
  },
  {
   "cell_type": "code",
   "execution_count": 290,
   "metadata": {},
   "outputs": [],
   "source": [
    "# 简化一点: 不用循环\n",
    "# 利用Numpy这种element-wize的计算特性"
   ]
  },
  {
   "cell_type": "code",
   "execution_count": 291,
   "metadata": {},
   "outputs": [],
   "source": [
    "z_s = np.array([-5, -4, -3, -2, -1, 0, 1, 2, 3, 4, 5])"
   ]
  },
  {
   "cell_type": "code",
   "execution_count": 292,
   "metadata": {},
   "outputs": [],
   "source": [
    "a_s = sigmoid(z_s)"
   ]
  },
  {
   "cell_type": "code",
   "execution_count": 293,
   "metadata": {},
   "outputs": [
    {
     "name": "stdout",
     "output_type": "stream",
     "text": [
      "[0.00669285 0.01798621 0.04742587 0.11920292 0.26894142 0.5\n",
      " 0.73105858 0.88079708 0.95257413 0.98201379 0.99330715] <class 'numpy.ndarray'>\n"
     ]
    }
   ],
   "source": [
    "print(a_s, type(a_s))"
   ]
  },
  {
   "cell_type": "code",
   "execution_count": 294,
   "metadata": {},
   "outputs": [
    {
     "data": {
      "image/png": "[encoded data removed]",
      "text/plain": [
       "<Figure size 432x288 with 1 Axes>"
      ]
     },
     "metadata": {
      "needs_background": "light"
     },
     "output_type": "display_data"
    }
   ],
   "source": [
    "plt.plot(z_s, a_s)\n",
    "plt.xlabel('z')\n",
    "plt.ylabel('$\\sigma (z)$')\n",
    "plt.show()"
   ]
  },
  {
   "cell_type": "code",
   "execution_count": 295,
   "metadata": {},
   "outputs": [],
   "source": [
    "## 综合一下: 单个神经元的计算\n",
    "output = np.dot(x, w) + b"
   ]
  },
  {
   "cell_type": "code",
   "execution_count": 296,
   "metadata": {},
   "outputs": [
    {
     "data": {
      "text/plain": [
       "3.6"
      ]
     },
     "execution_count": 296,
     "metadata": {},
     "output_type": "execute_result"
    }
   ],
   "source": [
    "output"
   ]
  },
  {
   "cell_type": "code",
   "execution_count": 297,
   "metadata": {},
   "outputs": [],
   "source": [
    "output = sigmoid(np.dot(x, w) + b)"
   ]
  },
  {
   "cell_type": "code",
   "execution_count": 298,
   "metadata": {
    "scrolled": true
   },
   "outputs": [
    {
     "name": "stdout",
     "output_type": "stream",
     "text": [
      "0.973403006423134\n"
     ]
    }
   ],
   "source": [
    "print(output)"
   ]
  },
  {
   "cell_type": "markdown",
   "metadata": {},
   "source": [
    "###  面向对象的写法"
   ]
  },
  {
   "cell_type": "code",
   "execution_count": 299,
   "metadata": {},
   "outputs": [],
   "source": [
    "# 定义神经元 类\n",
    "class neuron:\n",
    "    def __init__(self, x, w, b):\n",
    "        self.x = x\n",
    "        self.w = w\n",
    "        self.b = b\n",
    "    \n",
    "    def out(self):\n",
    "        return self.sigmoid(np.dot(self.w, self.x) + self.b)\n",
    "    \n",
    "    def sigmoid(self, z):\n",
    "        return 1.0/(1.0+np.exp(-z))\n",
    "        "
   ]
  },
  {
   "cell_type": "code",
   "execution_count": 300,
   "metadata": {},
   "outputs": [],
   "source": [
    "n1 = neuron(x=x, w=w, b=b)"
   ]
  },
  {
   "cell_type": "code",
   "execution_count": 301,
   "metadata": {},
   "outputs": [
    {
     "data": {
      "text/plain": [
       "0.973403006423134"
      ]
     },
     "execution_count": 301,
     "metadata": {},
     "output_type": "execute_result"
    }
   ],
   "source": [
    "n1.out()"
   ]
  },
  {
   "cell_type": "markdown",
   "metadata": {},
   "source": [
    "# 2. 神经层\n",
    "<img src='https://cdn.jsdelivr.net/gh/HuangJiaLian/DataBase0@master/uPic/2021_11_18_22_nn.png' width='40%'/>\n",
    "\n",
    "$$\n",
    "\\left[\\begin{array}{l}a_{20} \\\\ a_{21}  \\end{array}\\right]= \n",
    "\\sigma \\left ( \\left[\\begin{array}{llll}\n",
    "w_{00} & w_{01} & w_{02}\\\\ \n",
    "w_{10} & w_{11} & w_{12}\\\\ \n",
    "\\end{array}\\right]\\left[\\begin{array}{l}a_{10} \\\\ a_{11} \\\\ a_{12} \\end{array}\\right]+\\left[\\begin{array}{l}b_{20} \\\\ b_{21} \\end{array}\\right] \\right )\n",
    "$$\n",
    "\n",
    "一层神经元的属性有哪些?"
   ]
  },
  {
   "cell_type": "code",
   "execution_count": 302,
   "metadata": {},
   "outputs": [],
   "source": [
    "# 红色层(第二层)\n",
    "w00, w01, w02 = 1, 2, 3\n",
    "w10, w11, w12 = 2, 2, 2\n",
    "w = np.array([[w00, w01, w02], [w10, w11, w12]])"
   ]
  },
  {
   "cell_type": "code",
   "execution_count": 303,
   "metadata": {},
   "outputs": [
    {
     "data": {
      "text/plain": [
       "array([[1, 2, 3],\n",
       "       [2, 2, 2]])"
      ]
     },
     "execution_count": 303,
     "metadata": {},
     "output_type": "execute_result"
    }
   ],
   "source": [
    "w"
   ]
  },
  {
   "cell_type": "code",
   "execution_count": 304,
   "metadata": {},
   "outputs": [],
   "source": [
    "# 上一层的输出\n",
    "a10, a11, a12 = 1, 1 , 1\n",
    "a1 = np.array([a10, a11, a12])"
   ]
  },
  {
   "cell_type": "code",
   "execution_count": 305,
   "metadata": {},
   "outputs": [
    {
     "data": {
      "text/plain": [
       "array([1, 1, 1])"
      ]
     },
     "execution_count": 305,
     "metadata": {},
     "output_type": "execute_result"
    }
   ],
   "source": [
    "a1"
   ]
  },
  {
   "cell_type": "code",
   "execution_count": 306,
   "metadata": {},
   "outputs": [
    {
     "data": {
      "text/plain": [
       "array([6, 6])"
      ]
     },
     "execution_count": 306,
     "metadata": {},
     "output_type": "execute_result"
    }
   ],
   "source": [
    "np.dot(w,a1)"
   ]
  },
  {
   "cell_type": "code",
   "execution_count": 307,
   "metadata": {},
   "outputs": [],
   "source": [
    "b2 = np.array([1,2])"
   ]
  },
  {
   "cell_type": "code",
   "execution_count": 308,
   "metadata": {},
   "outputs": [],
   "source": [
    "z2 = np.dot(w,a1) + b2"
   ]
  },
  {
   "cell_type": "code",
   "execution_count": 309,
   "metadata": {},
   "outputs": [
    {
     "data": {
      "text/plain": [
       "array([7, 8])"
      ]
     },
     "execution_count": 309,
     "metadata": {},
     "output_type": "execute_result"
    }
   ],
   "source": [
    "z2"
   ]
  },
  {
   "cell_type": "code",
   "execution_count": 310,
   "metadata": {},
   "outputs": [],
   "source": [
    "a2 = sigmoid(z2)"
   ]
  },
  {
   "cell_type": "code",
   "execution_count": 311,
   "metadata": {},
   "outputs": [
    {
     "data": {
      "text/plain": [
       "array([0.99908895, 0.99966465])"
      ]
     },
     "execution_count": 311,
     "metadata": {},
     "output_type": "execute_result"
    }
   ],
   "source": [
    "a2"
   ]
  },
  {
   "cell_type": "code",
   "execution_count": 312,
   "metadata": {},
   "outputs": [],
   "source": [
    "class layer:\n",
    "    def __init__(self, x, w, b):\n",
    "        self.x = x \n",
    "        self.w = w \n",
    "        self.b = b\n",
    "    \n",
    "    def out(self):\n",
    "        return self.sigmoid(np.dot(self.w, self.x) + self.b)\n",
    "    \n",
    "    def sigmoid(self, z):\n",
    "        return 1.0/(1.0+np.exp(-z))"
   ]
  },
  {
   "cell_type": "code",
   "execution_count": 313,
   "metadata": {},
   "outputs": [],
   "source": [
    "l = layer(x=a1, w=w, b=b2)"
   ]
  },
  {
   "cell_type": "code",
   "execution_count": 314,
   "metadata": {},
   "outputs": [
    {
     "data": {
      "text/plain": [
       "array([0.99908895, 0.99966465])"
      ]
     },
     "execution_count": 314,
     "metadata": {},
     "output_type": "execute_result"
    }
   ],
   "source": [
    "l.out()"
   ]
  },
  {
   "cell_type": "markdown",
   "metadata": {},
   "source": [
    "## 3. 神经网络"
   ]
  },
  {
   "cell_type": "code",
   "execution_count": 315,
   "metadata": {},
   "outputs": [],
   "source": [
    "class network:\n",
    "    def __init__(self, weights, biases):\n",
    "        self.weights = weights\n",
    "        self.biases = biases\n",
    "    \n",
    "    # 前向传播\n",
    "    def feedforward(self, a):\n",
    "        for w, b in zip(self.weights, self.biases):\n",
    "            a = self.sigmoid(np.dot(w, a) + b)\n",
    "        return a\n",
    "    \n",
    "    def sigmoid(self, z):\n",
    "        return 1.0/(1.0+np.exp(-z))"
   ]
  },
  {
   "cell_type": "markdown",
   "metadata": {},
   "source": [
    "### 验证是否写正确了"
   ]
  },
  {
   "cell_type": "code",
   "execution_count": 316,
   "metadata": {},
   "outputs": [],
   "source": [
    "#  网络结构 sizes = [3, 3, 3]\n",
    "# 输入层\n",
    "x = np.array([1,1,1])\n",
    "a0 = x"
   ]
  },
  {
   "cell_type": "code",
   "execution_count": 317,
   "metadata": {},
   "outputs": [],
   "source": [
    "# 第一层\n",
    "w1 = np.array([[1, 2, 1], [2, 2, 2], [1,1,3]])\n",
    "b1= np.array([1,1,2])\n",
    "# 具体化\n",
    "l_1 = layer(x=a0, w=w1, b=b1)\n",
    "# 第一层输出\n",
    "a1 = l_1.out()"
   ]
  },
  {
   "cell_type": "code",
   "execution_count": 318,
   "metadata": {},
   "outputs": [],
   "source": [
    "# 第二层\n",
    "w2 = np.array([[0.1, 0.2, 1], [2, 0.2, 2], [1,0.1,0.3]])\n",
    "b2= np.array([1,1,2])\n",
    "l_2 = layer(x=a1, w=w2, b=b2)\n",
    "a_2 = l_2.out()"
   ]
  },
  {
   "cell_type": "code",
   "execution_count": 319,
   "metadata": {},
   "outputs": [
    {
     "data": {
      "text/plain": [
       "array([0.90873096, 0.99442909, 0.96748325])"
      ]
     },
     "execution_count": 319,
     "metadata": {},
     "output_type": "execute_result"
    }
   ],
   "source": [
    "a_2"
   ]
  },
  {
   "cell_type": "code",
   "execution_count": 320,
   "metadata": {},
   "outputs": [],
   "source": [
    "## 用Network类去验证\n",
    "weights = [w1, w2]\n",
    "biases = [b1, b2]"
   ]
  },
  {
   "cell_type": "code",
   "execution_count": 321,
   "metadata": {},
   "outputs": [],
   "source": [
    "nn = network(weights=weights, biases=biases)"
   ]
  },
  {
   "cell_type": "code",
   "execution_count": 323,
   "metadata": {},
   "outputs": [
    {
     "data": {
      "text/plain": [
       "array([0.90873096, 0.99442909, 0.96748325])"
      ]
     },
     "execution_count": 323,
     "metadata": {},
     "output_type": "execute_result"
    }
   ],
   "source": [
    "x = np.array([1,1,1])\n",
    "nn.feedforward(x)"
   ]
  },
  {
   "cell_type": "markdown",
   "metadata": {},
   "source": [
    "## 简化\n",
    "希望可以指定网络结构， 自动生成所有的权重和偏置\n",
    "<img src='https://cdn.jsdelivr.net/gh/HuangJiaLian/DataBase0@master/uPic/2021_11_17_10_nn_.svg' width='20%'>"
   ]
  },
  {
   "cell_type": "code",
   "execution_count": 324,
   "metadata": {},
   "outputs": [],
   "source": [
    "sizes = [5, 3, 2]"
   ]
  },
  {
   "cell_type": "code",
   "execution_count": 325,
   "metadata": {},
   "outputs": [
    {
     "data": {
      "text/plain": [
       "0.1607057999257281"
      ]
     },
     "execution_count": 325,
     "metadata": {},
     "output_type": "execute_result"
    }
   ],
   "source": [
    "np.random.normal()"
   ]
  },
  {
   "cell_type": "code",
   "execution_count": 326,
   "metadata": {},
   "outputs": [],
   "source": [
    "W1 = np.random.normal(size=(3,5))"
   ]
  },
  {
   "cell_type": "code",
   "execution_count": 327,
   "metadata": {},
   "outputs": [
    {
     "data": {
      "text/plain": [
       "array([[ 0.16127269,  2.05159254,  0.58704696,  0.06933925,  0.85929454],\n",
       "       [-0.18360997,  0.30967623,  0.02784959, -0.03825183, -1.07300914],\n",
       "       [-1.22197243, -1.32108765,  0.26452792,  0.30560046,  1.99534391]])"
      ]
     },
     "execution_count": 327,
     "metadata": {},
     "output_type": "execute_result"
    }
   ],
   "source": [
    "W1"
   ]
  },
  {
   "cell_type": "code",
   "execution_count": 328,
   "metadata": {},
   "outputs": [],
   "source": [
    "W2 = np.random.normal(size=(2,3))"
   ]
  },
  {
   "cell_type": "code",
   "execution_count": 329,
   "metadata": {},
   "outputs": [
    {
     "data": {
      "text/plain": [
       "array([[ 0.49075233, -0.77292872,  0.98113601],\n",
       "       [ 1.11589878,  0.37936122, -0.28870089]])"
      ]
     },
     "execution_count": 329,
     "metadata": {},
     "output_type": "execute_result"
    }
   ],
   "source": [
    "W2"
   ]
  },
  {
   "cell_type": "code",
   "execution_count": 330,
   "metadata": {},
   "outputs": [],
   "source": [
    "weights = [W1, W2]"
   ]
  },
  {
   "cell_type": "code",
   "execution_count": 331,
   "metadata": {},
   "outputs": [
    {
     "data": {
      "text/plain": [
       "[array([[ 0.16127269,  2.05159254,  0.58704696,  0.06933925,  0.85929454],\n",
       "        [-0.18360997,  0.30967623,  0.02784959, -0.03825183, -1.07300914],\n",
       "        [-1.22197243, -1.32108765,  0.26452792,  0.30560046,  1.99534391]]),\n",
       " array([[ 0.49075233, -0.77292872,  0.98113601],\n",
       "        [ 1.11589878,  0.37936122, -0.28870089]])]"
      ]
     },
     "execution_count": 331,
     "metadata": {},
     "output_type": "execute_result"
    }
   ],
   "source": [
    "weights"
   ]
  },
  {
   "cell_type": "code",
   "execution_count": 332,
   "metadata": {},
   "outputs": [],
   "source": [
    "num_layers = len(sizes)\n",
    "weights = [np.random.normal(size=(sizes[i], sizes[i-1])) for i in range(1, num_layers)]"
   ]
  },
  {
   "cell_type": "code",
   "execution_count": 333,
   "metadata": {},
   "outputs": [
    {
     "data": {
      "text/plain": [
       "[array([[-1.23245634, -0.5149933 , -0.13212971, -0.69876458,  0.02285602],\n",
       "        [-2.41008134, -0.07481785, -2.1705657 , -0.57644922, -0.95952531],\n",
       "        [ 0.90941522,  0.42879992,  2.23696744, -0.18658452, -1.21623128]]),\n",
       " array([[-2.19986258, -1.22544639, -1.2686315 ],\n",
       "        [ 0.90707074,  0.85789497,  0.65701142]])]"
      ]
     },
     "execution_count": 333,
     "metadata": {},
     "output_type": "execute_result"
    }
   ],
   "source": [
    "weights"
   ]
  },
  {
   "cell_type": "code",
   "execution_count": 334,
   "metadata": {},
   "outputs": [],
   "source": [
    "biases = [np.random.normal(size=sizes[i]) for i in range(1, num_layers)]"
   ]
  },
  {
   "cell_type": "code",
   "execution_count": 335,
   "metadata": {},
   "outputs": [
    {
     "data": {
      "text/plain": [
       "[array([-0.35635512,  0.2199323 ,  2.3048295 ]),\n",
       " array([ 0.98529331, -1.08755081])]"
      ]
     },
     "execution_count": 335,
     "metadata": {},
     "output_type": "execute_result"
    }
   ],
   "source": [
    "biases"
   ]
  },
  {
   "cell_type": "code",
   "execution_count": 357,
   "metadata": {},
   "outputs": [],
   "source": [
    "class network:\n",
    "    def __init__(self, sizes):\n",
    "        self.sizes = sizes\n",
    "        self.num_layers = len(self.sizes)\n",
    "        self.weights = [np.random.normal(size=(self.sizes[i], self.sizes[i-1])) for i in range(1, self.num_layers)]\n",
    "        self.biases = [np.random.normal(size=self.sizes[i]) for i in range(1, self.num_layers)]\n",
    "    \n",
    "    def feedforward(self, a):\n",
    "        for w, b in zip(self.weights, self.biases):\n",
    "            a = self.activation_f(np.dot(w, a) + b)\n",
    "        return a\n",
    "    \n",
    "    def activation_f(self, z):\n",
    "        return 1.0/(1.0+np.exp(-z))"
   ]
  },
  {
   "cell_type": "code",
   "execution_count": 358,
   "metadata": {},
   "outputs": [],
   "source": [
    "sizes = [5, 3, 2]"
   ]
  },
  {
   "cell_type": "code",
   "execution_count": 359,
   "metadata": {},
   "outputs": [],
   "source": [
    "nn = network(sizes = sizes)"
   ]
  },
  {
   "cell_type": "code",
   "execution_count": 360,
   "metadata": {},
   "outputs": [
    {
     "data": {
      "text/plain": [
       "[array([[ 0.46715793, -0.22697837, -1.24748384,  0.22702072,  0.31499241],\n",
       "        [ 0.56970566,  0.32820325,  1.16572844,  1.82100825, -0.51931421],\n",
       "        [ 0.11230874,  0.7433332 ,  0.19337023,  0.14805027, -1.77691166]]),\n",
       " array([[-0.81897202, -0.3698992 , -0.81044028],\n",
       "        [ 1.29036483, -0.7958453 ,  1.7510926 ]])]"
      ]
     },
     "execution_count": 360,
     "metadata": {},
     "output_type": "execute_result"
    }
   ],
   "source": [
    "nn.weights"
   ]
  },
  {
   "cell_type": "code",
   "execution_count": 361,
   "metadata": {},
   "outputs": [
    {
     "data": {
      "text/plain": [
       "[array([-0.65499587,  1.37112889,  2.01622033]),\n",
       " array([-0.23612622,  0.21358525])]"
      ]
     },
     "execution_count": 361,
     "metadata": {},
     "output_type": "execute_result"
    }
   ],
   "source": [
    "nn.biases"
   ]
  },
  {
   "cell_type": "code",
   "execution_count": 362,
   "metadata": {},
   "outputs": [
    {
     "data": {
      "text/plain": [
       "array([0.18862173, 0.76073766])"
      ]
     },
     "execution_count": 362,
     "metadata": {},
     "output_type": "execute_result"
    }
   ],
   "source": [
    "nn.feedforward(a=np.ones(5))"
   ]
  },
  {
   "cell_type": "markdown",
   "metadata": {},
   "source": [
    "至此神经网络的前向传播过程就完成了， 按照道理来说我们**有合适的weights和biases**就可以帮我们识别手写字符了。 "
   ]
  },
  {
   "cell_type": "markdown",
   "metadata": {},
   "source": [
    "## 识别数字\n",
    "我们先假设有这些合适的weights和biases。"
   ]
  },
  {
   "cell_type": "code",
   "execution_count": 365,
   "metadata": {},
   "outputs": [],
   "source": [
    "# 加载数据 得到一张图片的数据\n",
    "import gzip\n",
    "import pickle\n",
    "f = gzip.open('mnist.pkl.gz', 'rb')\n",
    "training_data, validation_data, test_data = pickle.load(f, encoding=\"latin1\")\n",
    "f.close()"
   ]
  },
  {
   "cell_type": "code",
   "execution_count": 366,
   "metadata": {},
   "outputs": [
    {
     "data": {
      "text/plain": [
       "array([[0., 0., 0., ..., 0., 0., 0.],\n",
       "       [0., 0., 0., ..., 0., 0., 0.],\n",
       "       [0., 0., 0., ..., 0., 0., 0.],\n",
       "       ...,\n",
       "       [0., 0., 0., ..., 0., 0., 0.],\n",
       "       [0., 0., 0., ..., 0., 0., 0.],\n",
       "       [0., 0., 0., ..., 0., 0., 0.]], dtype=float32)"
      ]
     },
     "execution_count": 366,
     "metadata": {},
     "output_type": "execute_result"
    }
   ],
   "source": [
    "# training_data\n",
    "# type(training_data)\n",
    "training_data[0]"
   ]
  },
  {
   "cell_type": "code",
   "execution_count": 367,
   "metadata": {},
   "outputs": [
    {
     "data": {
      "text/plain": [
       "array([5, 0, 4, ..., 8, 4, 8])"
      ]
     },
     "execution_count": 367,
     "metadata": {},
     "output_type": "execute_result"
    }
   ],
   "source": [
    "training_data[1]"
   ]
  },
  {
   "cell_type": "code",
   "execution_count": 368,
   "metadata": {},
   "outputs": [],
   "source": [
    "xs, ys  = training_data[0], training_data[1]"
   ]
  },
  {
   "cell_type": "code",
   "execution_count": 369,
   "metadata": {},
   "outputs": [
    {
     "data": {
      "text/plain": [
       "array([[0., 0., 0., ..., 0., 0., 0.],\n",
       "       [0., 0., 0., ..., 0., 0., 0.],\n",
       "       [0., 0., 0., ..., 0., 0., 0.],\n",
       "       ...,\n",
       "       [0., 0., 0., ..., 0., 0., 0.],\n",
       "       [0., 0., 0., ..., 0., 0., 0.],\n",
       "       [0., 0., 0., ..., 0., 0., 0.]], dtype=float32)"
      ]
     },
     "execution_count": 369,
     "metadata": {},
     "output_type": "execute_result"
    }
   ],
   "source": [
    "xs"
   ]
  },
  {
   "cell_type": "code",
   "execution_count": 370,
   "metadata": {},
   "outputs": [
    {
     "data": {
      "text/plain": [
       "array([5, 0, 4, ..., 8, 4, 8])"
      ]
     },
     "execution_count": 370,
     "metadata": {},
     "output_type": "execute_result"
    }
   ],
   "source": [
    "ys"
   ]
  },
  {
   "cell_type": "code",
   "execution_count": 371,
   "metadata": {},
   "outputs": [],
   "source": [
    "def one_hot(ys):\n",
    "    b = np.zeros((ys.size, ys.max()+1))\n",
    "    b[np.arange(ys.size),ys] = 1\n",
    "    return b "
   ]
  },
  {
   "cell_type": "code",
   "execution_count": 372,
   "metadata": {},
   "outputs": [],
   "source": [
    "ys =  one_hot(ys = ys)"
   ]
  },
  {
   "cell_type": "code",
   "execution_count": 373,
   "metadata": {
    "scrolled": true
   },
   "outputs": [
    {
     "data": {
      "text/plain": [
       "array([[0., 0., 0., ..., 0., 0., 0.],\n",
       "       [1., 0., 0., ..., 0., 0., 0.],\n",
       "       [0., 0., 0., ..., 0., 0., 0.],\n",
       "       ...,\n",
       "       [0., 0., 0., ..., 0., 1., 0.],\n",
       "       [0., 0., 0., ..., 0., 0., 0.],\n",
       "       [0., 0., 0., ..., 0., 1., 0.]])"
      ]
     },
     "execution_count": 373,
     "metadata": {},
     "output_type": "execute_result"
    }
   ],
   "source": [
    "ys"
   ]
  },
  {
   "cell_type": "code",
   "execution_count": 374,
   "metadata": {},
   "outputs": [],
   "source": [
    "xs_test, ys_test  = test_data[0], one_hot(ys=test_data[1])"
   ]
  },
  {
   "cell_type": "code",
   "execution_count": 375,
   "metadata": {},
   "outputs": [
    {
     "data": {
      "text/plain": [
       "array([[0., 0., 0., ..., 0., 0., 0.],\n",
       "       [0., 0., 0., ..., 0., 0., 0.],\n",
       "       [0., 0., 0., ..., 0., 0., 0.],\n",
       "       ...,\n",
       "       [0., 0., 0., ..., 0., 0., 0.],\n",
       "       [0., 0., 0., ..., 0., 0., 0.],\n",
       "       [0., 0., 0., ..., 0., 0., 0.]], dtype=float32)"
      ]
     },
     "execution_count": 375,
     "metadata": {},
     "output_type": "execute_result"
    }
   ],
   "source": [
    "xs_test"
   ]
  },
  {
   "cell_type": "code",
   "execution_count": 376,
   "metadata": {},
   "outputs": [
    {
     "data": {
      "text/plain": [
       "array([[0., 0., 0., ..., 1., 0., 0.],\n",
       "       [0., 0., 1., ..., 0., 0., 0.],\n",
       "       [0., 1., 0., ..., 0., 0., 0.],\n",
       "       ...,\n",
       "       [0., 0., 0., ..., 0., 0., 0.],\n",
       "       [0., 0., 0., ..., 0., 0., 0.],\n",
       "       [0., 0., 0., ..., 0., 0., 0.]])"
      ]
     },
     "execution_count": 376,
     "metadata": {},
     "output_type": "execute_result"
    }
   ],
   "source": [
    "ys_test"
   ]
  },
  {
   "cell_type": "code",
   "execution_count": 407,
   "metadata": {},
   "outputs": [
    {
     "data": {
      "image/png": "[encoded data removed]",
      "text/plain": [
       "<Figure size 432x288 with 1 Axes>"
      ]
     },
     "metadata": {
      "needs_background": "light"
     },
     "output_type": "display_data"
    }
   ],
   "source": [
    "i = 30\n",
    "x = training_data[0][i]\n",
    "# # 可视化这张图。是二维的，因此要重新排列数据\n",
    "plt.imshow(x.reshape((28,28)), cmap=plt.get_cmap('gray'))\n",
    "plt.show()"
   ]
  },
  {
   "cell_type": "code",
   "execution_count": 411,
   "metadata": {},
   "outputs": [],
   "source": [
    "## 准备网络\n",
    "net = network(sizes = [784, 30, 10])\n",
    "# net.sizes\n",
    "# net.num_layers\n",
    "# net.biases\n",
    "# net.weights"
   ]
  },
  {
   "cell_type": "code",
   "execution_count": 412,
   "metadata": {},
   "outputs": [],
   "source": [
    "out = net.feedforward(x)"
   ]
  },
  {
   "cell_type": "code",
   "execution_count": 413,
   "metadata": {},
   "outputs": [
    {
     "data": {
      "text/plain": [
       "array([0.50946996, 0.17387809, 0.59184697, 0.99095721, 0.96679088,\n",
       "       0.02492299, 0.73113539, 0.00107167, 0.06578422, 0.90766268])"
      ]
     },
     "execution_count": 413,
     "metadata": {},
     "output_type": "execute_result"
    }
   ],
   "source": [
    "out"
   ]
  },
  {
   "cell_type": "code",
   "execution_count": 414,
   "metadata": {},
   "outputs": [
    {
     "data": {
      "image/png": "[encoded data removed]",
      "text/plain": [
       "<Figure size 432x288 with 1 Axes>"
      ]
     },
     "metadata": {
      "needs_background": "light"
     },
     "output_type": "display_data"
    },
    {
     "name": "stdout",
     "output_type": "stream",
     "text": [
      "使用随机参数， 识别出的数字是: 3\n"
     ]
    }
   ],
   "source": [
    "plt.bar(np.arange(10),  out)\n",
    "plt.show()\n",
    "print('使用随机参数， 识别出的数字是: {}'.format(np.argmax(out)))"
   ]
  },
  {
   "cell_type": "markdown",
   "metadata": {},
   "source": [
    "不对的原因是我们的权重和偏置是随机的， 接下来我们从某个地方拿到这组参数。"
   ]
  },
  {
   "cell_type": "code",
   "execution_count": 415,
   "metadata": {},
   "outputs": [],
   "source": [
    "import pickle\n",
    "with open('nn_model_weights.dat', \"rb\") as f:\n",
    "    good_weights = pickle.load(f)\n",
    "\n",
    "with open('nn_model_biases.dat', \"rb\") as f:\n",
    "    Bs = pickle.load(f)\n",
    "    good_biases = [B.flatten() for B in Bs]"
   ]
  },
  {
   "cell_type": "code",
   "execution_count": 416,
   "metadata": {},
   "outputs": [
    {
     "data": {
      "text/plain": [
       "2"
      ]
     },
     "execution_count": 416,
     "metadata": {},
     "output_type": "execute_result"
    }
   ],
   "source": [
    "len(good_weights)"
   ]
  },
  {
   "cell_type": "code",
   "execution_count": 417,
   "metadata": {},
   "outputs": [
    {
     "data": {
      "text/plain": [
       "(30, 784)"
      ]
     },
     "execution_count": 417,
     "metadata": {},
     "output_type": "execute_result"
    }
   ],
   "source": [
    "good_weights[0].shape"
   ]
  },
  {
   "cell_type": "code",
   "execution_count": 418,
   "metadata": {
    "scrolled": true
   },
   "outputs": [
    {
     "data": {
      "text/plain": [
       "2"
      ]
     },
     "execution_count": 418,
     "metadata": {},
     "output_type": "execute_result"
    }
   ],
   "source": [
    "len(good_biases)"
   ]
  },
  {
   "cell_type": "code",
   "execution_count": 419,
   "metadata": {},
   "outputs": [
    {
     "data": {
      "text/plain": [
       "(30,)"
      ]
     },
     "execution_count": 419,
     "metadata": {},
     "output_type": "execute_result"
    }
   ],
   "source": [
    "good_biases[0].shape"
   ]
  },
  {
   "cell_type": "code",
   "execution_count": 420,
   "metadata": {},
   "outputs": [
    {
     "data": {
      "text/plain": [
       "2"
      ]
     },
     "execution_count": 420,
     "metadata": {},
     "output_type": "execute_result"
    }
   ],
   "source": [
    "len(net.weights)"
   ]
  },
  {
   "cell_type": "code",
   "execution_count": 421,
   "metadata": {},
   "outputs": [
    {
     "data": {
      "text/plain": [
       "(30, 784)"
      ]
     },
     "execution_count": 421,
     "metadata": {},
     "output_type": "execute_result"
    }
   ],
   "source": [
    "net.weights[0].shape"
   ]
  },
  {
   "cell_type": "code",
   "execution_count": 422,
   "metadata": {},
   "outputs": [
    {
     "data": {
      "text/plain": [
       "2"
      ]
     },
     "execution_count": 422,
     "metadata": {},
     "output_type": "execute_result"
    }
   ],
   "source": [
    "len(net.biases)"
   ]
  },
  {
   "cell_type": "code",
   "execution_count": 423,
   "metadata": {},
   "outputs": [],
   "source": [
    "# 用最优的权重和偏置取替换掉原本随机的值\n",
    "net.weights = good_weights\n",
    "net.biases = good_biases"
   ]
  },
  {
   "cell_type": "code",
   "execution_count": 424,
   "metadata": {},
   "outputs": [
    {
     "data": {
      "image/png": "[encoded data removed]",
      "text/plain": [
       "<Figure size 432x288 with 1 Axes>"
      ]
     },
     "metadata": {
      "needs_background": "light"
     },
     "output_type": "display_data"
    },
    {
     "name": "stdout",
     "output_type": "stream",
     "text": [
      "使用较好参数后， 识别出的数字是: 3\n"
     ]
    }
   ],
   "source": [
    "out = net.feedforward(x)\n",
    "plt.bar(np.arange(10),  out)\n",
    "plt.show()\n",
    "print('使用较好参数后， 识别出的数字是: {}'.format(np.argmax(out)))"
   ]
  },
  {
   "cell_type": "markdown",
   "metadata": {},
   "source": [
    "## 计算准确度( Accuracy)\n",
    "\n",
    "$$\n",
    "\\text{acc} = \\frac{\\text{预测正确的图片数目}}{\\text{预测图片数目}}\n",
    "$$"
   ]
  },
  {
   "cell_type": "code",
   "execution_count": 425,
   "metadata": {},
   "outputs": [],
   "source": [
    "class network:\n",
    "    def __init__(self, sizes):\n",
    "        self.sizes = sizes\n",
    "        self.num_layers = len(self.sizes)\n",
    "        self.weights = [np.random.normal(size=(self.sizes[i], self.sizes[i-1])) for i in range(1, self.num_layers)]\n",
    "        self.biases = [np.random.normal(size=self.sizes[i]) for i in range(1, self.num_layers)]\n",
    "    \n",
    "    def out(self, a):\n",
    "        for w, b in zip(self.weights, self.biases):\n",
    "            a = self.activation_f(np.dot(w, a) + b)\n",
    "        return a\n",
    "    \n",
    "    def activation_f(self, z):\n",
    "        return 1.0/(1.0+np.exp(-z))\n",
    "    \n",
    "    # 计算准确度， 其中标签ys是one-hot格式\n",
    "    def acc(self, xs, ys):\n",
    "        num = xs.shape[0]\n",
    "        outs = [np.argmax(self.out(x)) for x in xs]\n",
    "        ys = [np.argmax(y) for y in ys]\n",
    "        correct_num = sum(int(out == y) for out, y in zip(outs, ys))\n",
    "        acc = correct_num / num\n",
    "        return acc"
   ]
  },
  {
   "cell_type": "code",
   "execution_count": 426,
   "metadata": {},
   "outputs": [],
   "source": [
    "net = network(sizes = [784, 30, 10])"
   ]
  },
  {
   "cell_type": "code",
   "execution_count": 427,
   "metadata": {},
   "outputs": [
    {
     "data": {
      "text/plain": [
       "0.0732"
      ]
     },
     "execution_count": 427,
     "metadata": {},
     "output_type": "execute_result"
    }
   ],
   "source": [
    "# 随机参数时的准确度\n",
    "net.acc(xs=xs_test, ys=ys_test)"
   ]
  },
  {
   "cell_type": "code",
   "execution_count": 428,
   "metadata": {},
   "outputs": [],
   "source": [
    "net.weights = good_weights\n",
    "net.biases = good_biases"
   ]
  },
  {
   "cell_type": "code",
   "execution_count": 429,
   "metadata": {},
   "outputs": [
    {
     "data": {
      "text/plain": [
       "0.9379"
      ]
     },
     "execution_count": 429,
     "metadata": {},
     "output_type": "execute_result"
    }
   ],
   "source": [
    "# 较优参数时的准确度\n",
    "net.acc(xs=xs_test, ys=ys_test)"
   ]
  },
  {
   "cell_type": "markdown",
   "metadata": {},
   "source": [
    "## 找出这组好的参数\n",
    "定义了一个损失函数:\n",
    "$$\n",
    "C(w, b) \\equiv \\frac{1}{n} \\sum_{x} C_{x} = \\frac{1}{2 n} \\sum_{x}\\|y(x)-a_{w,b}(x)\\|^{2}\n",
    "$$\n",
    "我们的目的是找到这些好的参数, 满足:\n",
    "\n",
    "$$\n",
    "w^{*}, b^{*}=\\arg \\min _{w, b} C(w,b)\n",
    "$$\n",
    "\n",
    "<img src='https://cdn.jsdelivr.net/gh/HuangJiaLian/DataBase0@master/uPic/2021_11_17_15_grediant.png' width = '50%'/>\n",
    "\n",
    "寻找的这些参数的方法是梯度下降, $v$是由所有的权重和偏置构成的一个高维的向量， 其改变的反向就是损失函数梯度下降的方向。\n",
    "\n",
    "$$\n",
    "v \\rightarrow v^{\\prime}=v-\\eta \\nabla C\n",
    "$$\n",
    "\n",
    "具体到其中的某一个分量的更新方法是,\n",
    "\n",
    "$$\n",
    "w_{k} \\rightarrow w_{k}^{\\prime}=w_{k}-\\eta \\frac{\\partial C}{\\partial w_{k}}\n",
    "$$\n",
    "\n",
    "$$\n",
    "b_{l} \\rightarrow b_{l}^{\\prime}=b_{l}-\\eta \\frac{\\partial C}{\\partial b_{l}}\n",
    "$$"
   ]
  },
  {
   "cell_type": "markdown",
   "metadata": {},
   "source": [
    "- 随机初始化神经网络的权重和偏置之后， 相当于小球在损失函数平面上的任意位置， 假设就是上图中的初始位置A。\n",
    "- 我们加载一组比较好的权重和偏置之后， 相当于小球在损失函数平面上较低的位置， 假设就是上图中的最佳位置B。\n",
    "- 机器学习就是从A走到B的这么一个过程。"
   ]
  },
  {
   "cell_type": "markdown",
   "metadata": {},
   "source": [
    "## 损失函数"
   ]
  },
  {
   "cell_type": "code",
   "execution_count": 430,
   "metadata": {},
   "outputs": [],
   "source": [
    "class network:\n",
    "    def __init__(self, sizes):\n",
    "        self.sizes = sizes\n",
    "        self.num_layers = len(self.sizes)\n",
    "        self.weights = [np.random.normal(size=(self.sizes[i], self.sizes[i-1])) for i in range(1, self.num_layers)]\n",
    "        self.biases = [np.random.normal(size=self.sizes[i]) for i in range(1, self.num_layers)]\n",
    "    \n",
    "    # 前向传播\n",
    "    def out(self, a):\n",
    "        for w, b in zip(self.weights, self.biases):\n",
    "            a = self.activation_f(np.dot(w, a) + b)\n",
    "        return a\n",
    "    \n",
    "    # 激活函数\n",
    "    def activation_f(self, z):\n",
    "        return 1.0/(1.0+np.exp(-z))\n",
    "    \n",
    "    # 准确度， 其中标签ys是one-hot格式\n",
    "    def acc(self, xs, ys):\n",
    "        num = xs.shape[0]\n",
    "        outs = [np.argmax(self.out(x)) for x in xs]\n",
    "        ys = [np.argmax(y) for y in ys]\n",
    "        correct_num = sum(int(out == y) for out, y in zip(outs, ys))\n",
    "        acc = correct_num / num\n",
    "        return acc\n",
    "    \n",
    "    # 损失函数\n",
    "    def loss(self, xs, ys):\n",
    "        num_samples = len(xs)\n",
    "        loss = 0\n",
    "        for x, y in zip(xs, ys):\n",
    "            out = self.out(x)\n",
    "            v = y - out \n",
    "            loss = loss + v.dot(v)\n",
    "        loss = loss / (2*num_samples)\n",
    "        return loss"
   ]
  },
  {
   "cell_type": "code",
   "execution_count": 431,
   "metadata": {},
   "outputs": [],
   "source": [
    "net = network(sizes = [784, 30, 10])"
   ]
  },
  {
   "cell_type": "code",
   "execution_count": 432,
   "metadata": {},
   "outputs": [],
   "source": [
    "# 计算随机参数时的损失函数"
   ]
  },
  {
   "cell_type": "code",
   "execution_count": 433,
   "metadata": {},
   "outputs": [],
   "source": [
    "loss = net.loss(xs=xs, ys=ys)"
   ]
  },
  {
   "cell_type": "code",
   "execution_count": 434,
   "metadata": {},
   "outputs": [
    {
     "data": {
      "text/plain": [
       "1.2485204813172295"
      ]
     },
     "execution_count": 434,
     "metadata": {},
     "output_type": "execute_result"
    }
   ],
   "source": [
    "loss"
   ]
  },
  {
   "cell_type": "code",
   "execution_count": 435,
   "metadata": {},
   "outputs": [],
   "source": [
    "# 计算较优参数时的损失函数"
   ]
  },
  {
   "cell_type": "code",
   "execution_count": 436,
   "metadata": {},
   "outputs": [],
   "source": [
    "net.weights = good_weights\n",
    "net.biases = good_biases"
   ]
  },
  {
   "cell_type": "code",
   "execution_count": 437,
   "metadata": {},
   "outputs": [],
   "source": [
    "loss = net.loss(xs=xs, ys=ys)"
   ]
  },
  {
   "cell_type": "code",
   "execution_count": 438,
   "metadata": {},
   "outputs": [
    {
     "data": {
      "text/plain": [
       "0.043179193159425984"
      ]
     },
     "execution_count": 438,
     "metadata": {},
     "output_type": "execute_result"
    }
   ],
   "source": [
    "loss"
   ]
  },
  {
   "cell_type": "markdown",
   "metadata": {},
   "source": [
    "## 更新参数\n",
    "$$\n",
    "w_{k} \\rightarrow w_{k}^{\\prime}=w_{k}-\\eta \\frac{\\partial C}{\\partial w_{k}}\n",
    "$$\n",
    "\n",
    "$$\n",
    "b_{l} \\rightarrow b_{l}^{\\prime}=b_{l}-\\eta \\frac{\\partial C}{\\partial b_{l}}\n",
    "$$\n",
    "\n",
    "[反向传播](https://github.com/way2ml/ML-Course/blob/main/src/backpropagation.pdf)"
   ]
  },
  {
   "cell_type": "code",
   "execution_count": 439,
   "metadata": {},
   "outputs": [],
   "source": [
    "class network:\n",
    "    \n",
    "    # 神经网络的基本属性\n",
    "    def __init__(self, sizes):\n",
    "        self.sizes = sizes\n",
    "        self.num_layers = len(self.sizes)\n",
    "        self.weights = [np.random.normal(size=(self.sizes[i], self.sizes[i-1])) for i in range(1, self.num_layers)]\n",
    "        self.biases = [np.random.normal(size=self.sizes[i]) for i in range(1, self.num_layers)]\n",
    "    \n",
    "    # 前向传播计算输出\n",
    "    def out(self, a):\n",
    "        for w, b in zip(self.weights, self.biases):\n",
    "            a = self.activation_f(np.dot(w, a) + b)\n",
    "        return a\n",
    "    \n",
    "    # 激活函数\n",
    "    def activation_f(self, z):\n",
    "        return 1.0/(1.0+np.exp(-z))\n",
    "    \n",
    "    # 激活函数的倒数 (反向传播的时候会用到)\n",
    "    def activation_f_prime(self, z):\n",
    "        return self.activation_f(z)*(1-self.activation_f(z))\n",
    "    \n",
    "    # 损失函数\n",
    "    def loss(self, xs, ys):\n",
    "        num_samples = len(xs)\n",
    "        loss = 0\n",
    "        for x, y in zip(xs, ys):\n",
    "            out = self.out(x)\n",
    "            v = y - out \n",
    "            loss = loss + v.dot(v)\n",
    "        loss = loss / (2*num_samples)\n",
    "        return loss\n",
    "    \n",
    "    # 准确度， 其中标签ys是one-hot格式\n",
    "    def acc(self, xs, ys):\n",
    "        num = xs.shape[0]\n",
    "        outs = [np.argmax(self.out(x)) for x in xs]\n",
    "        ys = [np.argmax(y) for y in ys]\n",
    "        correct_num = sum(int(out == y) for out, y in zip(outs, ys))\n",
    "        acc = correct_num / num\n",
    "        return acc\n",
    "    \n",
    "    # 更新参数\n",
    "    def update(self, lr, xs, ys):\n",
    "        # 目的: 找到要更新的量(要微调的量)\n",
    "        nabla_ws = [np.zeros(w.shape) for w in self.weights]\n",
    "        nabla_bs = [np.zeros(b.shape) for b in self.biases]\n",
    "        partial_zs = [np.zeros(b.shape) for b in self.biases]\n",
    "        \n",
    "        # 循环所有训练数据\n",
    "        for x, y in zip(xs, ys):\n",
    "            num_samples = xs.shape[0]\n",
    "            # 前向传播得到每一层的加权求和值z, 与每一层的输出(激活)值a\n",
    "            zs = []\n",
    "            a = x\n",
    "            a_s = [x]\n",
    "            # 循环所有层\n",
    "            for w, b in zip(self.weights, self.biases):\n",
    "                z = np.dot(w, a) + b\n",
    "                a = self.activation_f(z)\n",
    "                zs.append(z)\n",
    "                a_s.append(a)\n",
    "            \n",
    "            # 循环结束后的a即为网络的输出o\n",
    "            o = a_s[-1]\n",
    "            \n",
    "            # 计算梯度\n",
    "            # 最后一层\n",
    "            partial_z = (o - y)*self.activation_f_prime(zs[-1])\n",
    "            partial_zs[-1] = partial_z\n",
    "            \n",
    "            repetitions = self.sizes[-1]\n",
    "            ma = np.transpose([a_s[-2]] * repetitions)\n",
    "            nabla_ws[-1] +=  (ma* partial_zs[-1]).T\n",
    "            nabla_bs[-1] += partial_zs[-1]\n",
    "            # 反向传播 \n",
    "            # 输入层没有加权求和过激活等运算\n",
    "            for n in range(1, self.num_layers -1): \n",
    "                h,  i,  j = -n-2,  -n-1,  -n\n",
    "                partial_z = self.activation_f_prime(zs[i]) * np.dot(self.weights[j].T, partial_zs[j])\n",
    "                partial_zs[i] = partial_z\n",
    "                repetitions = self.sizes[i]\n",
    "                ma = np.transpose([a_s[h]] * repetitions)\n",
    "                nabla_ws[i] +=  (ma* partial_zs[i]).T\n",
    "                nabla_bs[i] += partial_zs[i]\n",
    "        # 更新参数， 使得网络的性能变得更好\n",
    "        # weight 是一个2D的numpy array, weights 是一个列表\n",
    "        # biase 是一个1D的numpy array， biases是一个列表\n",
    "        self.weights = [weight - (lr/num_samples) * nabla_w for weight, nabla_w in zip(self.weights, nabla_ws)]\n",
    "        self.biases = [biase - (lr/num_samples) * nabla_b  for biase,  nabla_b in zip(self.biases, nabla_bs)] "
   ]
  },
  {
   "cell_type": "code",
   "execution_count": 440,
   "metadata": {},
   "outputs": [],
   "source": [
    "net = network(sizes = [784, 30, 10])"
   ]
  },
  {
   "cell_type": "code",
   "execution_count": 441,
   "metadata": {},
   "outputs": [
    {
     "name": "stdout",
     "output_type": "stream",
     "text": [
      "1.2427712348480855 0.10134\n",
      "1.0584385040661637 0.10294\n",
      "0.9114441862354237 0.10496\n",
      "0.8027840831388229 0.10882\n",
      "0.724525768735168 0.11304\n",
      "0.6675092308887004 0.11808\n",
      "0.6253504449092304 0.12284\n",
      "0.5938689970426354 0.12756\n",
      "0.5702069482606825 0.1322\n",
      "0.5523541130007643 0.1371\n"
     ]
    }
   ],
   "source": [
    "# Training \n",
    "for i in range(10):\n",
    "    net.update( lr=1, xs=xs, ys=ys)\n",
    "    print(net.loss(xs=xs, ys=ys), net.acc(xs=xs, ys=ys))"
   ]
  },
  {
   "cell_type": "markdown",
   "metadata": {},
   "source": [
    "## 随机梯度下降"
   ]
  },
  {
   "cell_type": "code",
   "execution_count": 442,
   "metadata": {},
   "outputs": [],
   "source": [
    "class network:\n",
    "    \n",
    "    # 神经网络的基本属性\n",
    "    def __init__(self, sizes):\n",
    "        self.sizes = sizes\n",
    "        self.num_layers = len(self.sizes)\n",
    "        self.weights = [np.random.normal(size=(self.sizes[i], self.sizes[i-1])) for i in range(1, self.num_layers)]\n",
    "        self.biases = [np.random.normal(size=self.sizes[i]) for i in range(1, self.num_layers)]\n",
    "    # 前向传播计算输出\n",
    "    def out(self, a):\n",
    "        for w, b in zip(self.weights, self.biases):\n",
    "            a = self.activation_f(np.dot(w, a) + b)\n",
    "        return a\n",
    "    \n",
    "    # 激活函数\n",
    "    def activation_f(self, z):\n",
    "        return 1.0/(1.0+np.exp(-z))\n",
    "    \n",
    "    # 激活函数的倒数 (反向传播的时候会用到)\n",
    "    def activation_f_prime(self, z):\n",
    "        return self.activation_f(z)*(1-self.activation_f(z))\n",
    "    \n",
    "    # 损失函数\n",
    "    def loss(self, xs, ys):\n",
    "        num_samples = len(xs)\n",
    "        loss = 0\n",
    "        for x, y in zip(xs, ys):\n",
    "            out = self.out(x)\n",
    "            v = y - out \n",
    "            loss = loss + v.dot(v)\n",
    "        loss = loss / (2*num_samples)\n",
    "        return loss\n",
    "    \n",
    "    # 准确度， 其中标签ys是one-hot格式\n",
    "    def acc(self, xs, ys):\n",
    "        num = xs.shape[0]\n",
    "        outs = [np.argmax(self.out(x)) for x in xs]\n",
    "        ys = [np.argmax(y) for y in ys]\n",
    "        correct_num = sum(int(out == y) for out, y in zip(outs, ys))\n",
    "        acc = correct_num / num\n",
    "        return acc\n",
    "    \n",
    "    # 更新参数\n",
    "    def update(self, lr, xs, ys):\n",
    "        # 目的: 找到要更新的量(要微调的量)\n",
    "        nabla_ws = [np.zeros(w.shape) for w in self.weights]\n",
    "        nabla_bs = [np.zeros(b.shape) for b in self.biases]\n",
    "        partial_zs = [np.zeros(b.shape) for b in self.biases]\n",
    "        \n",
    "        # 循环所有训练数据\n",
    "        for x, y in zip(xs, ys):\n",
    "            num_samples = xs.shape[0]\n",
    "            # 前向传播得到每一层的加权求和值z, 与每一层的输出(激活)值a\n",
    "            zs = []\n",
    "            a = x\n",
    "            a_s = [x]\n",
    "            # 循环所有层\n",
    "            for w, b in zip(self.weights, self.biases):\n",
    "                z = np.dot(w, a) + b\n",
    "                a = self.activation_f(z)\n",
    "                zs.append(z)\n",
    "                a_s.append(a)\n",
    "            \n",
    "            # 循环结束后的a即为网络的输出o\n",
    "            o = a_s[-1]\n",
    "            \n",
    "            # 计算梯度\n",
    "            # 最后一层\n",
    "            partial_z = (o - y)*self.activation_f_prime(zs[-1])\n",
    "            partial_zs[-1] = partial_z\n",
    "            \n",
    "            repetitions = self.sizes[-1]\n",
    "            ma = np.transpose([a_s[-2]] * repetitions)\n",
    "            nabla_ws[-1] +=  (ma* partial_zs[-1]).T\n",
    "            nabla_bs[-1] += partial_zs[-1]\n",
    "            # 反向传播 \n",
    "            # 输入层没有加权求和过激活等运算\n",
    "            for n in range(1, self.num_layers -1): \n",
    "                h,  i,  j = -n-2,  -n-1,  -n\n",
    "                partial_z = self.activation_f_prime(zs[i]) * np.dot(self.weights[j].T, partial_zs[j])\n",
    "                partial_zs[i] = partial_z\n",
    "                repetitions = self.sizes[i]\n",
    "                ma = np.transpose([a_s[h]] * repetitions)\n",
    "                nabla_ws[i] +=  (ma* partial_zs[i]).T\n",
    "                nabla_bs[i] += partial_zs[i]\n",
    "        # 更新参数， 使得网络的性能变得更好\n",
    "        # weight 是一个2D的numpy array, weights 是一个列表\n",
    "        # biase 是一个1D的numpy array， biases是一个列表\n",
    "        self.weights = [weight - (lr/num_samples) * nabla_w for weight, nabla_w in zip(self.weights, nabla_ws)]\n",
    "        self.biases = [biase - (lr/num_samples) * nabla_b  for biase,  nabla_b in zip(self.biases, nabla_bs)] \n",
    "        \n",
    "    def sgd(self, xs, ys, lr, epochs, batch_size):\n",
    "        assert xs.shape[0] == ys.shape[0]\n",
    "        \n",
    "        #  打乱顺序\n",
    "        p = np.random.permutation(xs.shape[0])\n",
    "        xs, ys = xs[p], ys[p]\n",
    "        \n",
    "        # 一大堆训练数据分成很多小份\n",
    "        n = xs.shape[0]\n",
    "        xs_batches = [ xs[k:k+batch_size] for k in range(0, n, batch_size)]\n",
    "        ys_batches = [ ys[k:k+batch_size] for k in range(0, n, batch_size)]\n",
    "        for epoch in range(epochs):\n",
    "            for xs_batch, ys_batch in zip(xs_batches, ys_batches):\n",
    "                # 用一小份数据去更新参数\n",
    "                self.update(lr=lr, xs=xs_batch, ys=ys_batch)\n",
    "            loss = self.loss(xs=xs, ys=ys)\n",
    "            acc = self.acc(xs=xs, ys=ys)\n",
    "            print('epoch: {:<5}\\t loss: {:.4f}\\t acc: {:.4f}'.format(epoch+1, loss, acc))\n",
    "        "
   ]
  },
  {
   "cell_type": "code",
   "execution_count": 443,
   "metadata": {},
   "outputs": [],
   "source": [
    "net = network(sizes = [784, 30, 10])"
   ]
  },
  {
   "cell_type": "code",
   "execution_count": 444,
   "metadata": {},
   "outputs": [
    {
     "name": "stdout",
     "output_type": "stream",
     "text": [
      "epoch: 1    \t loss: 0.2760\t acc: 0.5893\n",
      "epoch: 2    \t loss: 0.2089\t acc: 0.6730\n",
      "epoch: 3    \t loss: 0.1920\t acc: 0.6941\n",
      "epoch: 4    \t loss: 0.1818\t acc: 0.7070\n",
      "epoch: 5    \t loss: 0.1743\t acc: 0.7163\n",
      "epoch: 6    \t loss: 0.1273\t acc: 0.8331\n",
      "epoch: 7    \t loss: 0.0852\t acc: 0.8979\n",
      "epoch: 8    \t loss: 0.0776\t acc: 0.9072\n",
      "epoch: 9    \t loss: 0.0729\t acc: 0.9128\n",
      "epoch: 10   \t loss: 0.0693\t acc: 0.9167\n"
     ]
    }
   ],
   "source": [
    "net.sgd(xs=xs, ys=ys, lr=1, epochs=10, batch_size=30)"
   ]
  },
  {
   "cell_type": "code",
   "execution_count": 445,
   "metadata": {},
   "outputs": [],
   "source": [
    "class network:\n",
    "    # 神经网络的基本属性\n",
    "    def __init__(self, sizes):\n",
    "        self.sizes = sizes\n",
    "        self.num_layers = len(self.sizes)\n",
    "        self.weights = [np.random.normal(size=(self.sizes[i], self.sizes[i-1])) for i in range(1, self.num_layers)]\n",
    "        self.biases = [np.random.normal(size=self.sizes[i]) for i in range(1, self.num_layers)]\n",
    "    \n",
    "    # 前向传播计算输出\n",
    "    def out(self, a):\n",
    "        for w, b in zip(self.weights, self.biases):\n",
    "            a = self.activation_f(np.dot(w, a) + b)\n",
    "        return a\n",
    "    \n",
    "    # 激活函数\n",
    "    def activation_f(self, z):\n",
    "        return 1.0/(1.0+np.exp(-z))\n",
    "    \n",
    "    # 激活函数的倒数 (反向传播的时候会用到)\n",
    "    def activation_f_prime(self, z):\n",
    "        return self.activation_f(z)*(1-self.activation_f(z))\n",
    "    \n",
    "    # 损失函数\n",
    "    def loss(self, xs, ys):\n",
    "        num_samples = len(xs)\n",
    "        loss = 0\n",
    "        for x, y in zip(xs, ys):\n",
    "            out = self.out(x)\n",
    "            v = y - out \n",
    "            loss = loss + v.dot(v)\n",
    "        loss = loss / (2*num_samples)\n",
    "        return loss\n",
    "    \n",
    "    # 准确度， 其中标签ys是one-hot格式\n",
    "    def acc(self, xs, ys):\n",
    "        num = xs.shape[0]\n",
    "        outs = [np.argmax(self.out(x)) for x in xs]\n",
    "        ys = [np.argmax(y) for y in ys]\n",
    "        correct_num = sum(int(out == y) for out, y in zip(outs, ys))\n",
    "        acc = correct_num / num\n",
    "        return acc\n",
    "    \n",
    "    def backprop(self, x, y):\n",
    "        # 目的: 找到要更新的量(要微调的量)\n",
    "        nabla_ws = [np.zeros(w.shape) for w in self.weights]\n",
    "        nabla_bs = [np.zeros(b.shape) for b in self.biases]\n",
    "        \n",
    "        partial_zs = [np.zeros(b.shape) for b in self.biases]\n",
    "        # 前向传播得到每一层的加权求和值z, 与每一层的输出(激活)值a\n",
    "        zs = []\n",
    "        a = x\n",
    "        a_s = [x]\n",
    "        # 循环所有层\n",
    "        for w, b in zip(self.weights, self.biases):\n",
    "            z = np.dot(w, a) + b\n",
    "            a = self.activation_f(z)\n",
    "            zs.append(z)\n",
    "            a_s.append(a)\n",
    "\n",
    "        # 循环结束后的a即为网络的输出o\n",
    "        o = a_s[-1]\n",
    "\n",
    "        # 计算梯度\n",
    "        # 对最后一层\n",
    "        partial_z = (o - y)*self.activation_f_prime(zs[-1])\n",
    "        partial_zs[-1] = partial_z\n",
    "\n",
    "        nabla_ws[-1] =  (a_s[-2].reshape((-1, 1))* partial_zs[-1].reshape((1, -1))).T\n",
    "        nabla_bs[-1] = partial_zs[-1]\n",
    "        # 反向传播 \n",
    "        # 输入层没有加权求和过激活等运算\n",
    "        for n in range(1, self.num_layers -1): \n",
    "            h,  i,  j = -n-2,  -n-1,  -n\n",
    "            partial_z = self.activation_f_prime(zs[i]) * np.dot(self.weights[j].T, partial_zs[j])\n",
    "            partial_zs[i] = partial_z\n",
    "            nabla_ws[i] =  (a_s[h].reshape((-1, 1))* partial_zs[i].reshape((1, -1))).T\n",
    "            nabla_bs[i] = partial_zs[i]       \n",
    "        return nabla_ws, nabla_bs\n",
    "    \n",
    "    # 更新参数\n",
    "    def update(self, lr, xs, ys):\n",
    "        \n",
    "        # 训练样本的数目\n",
    "        num_samples = xs.shape[0]\n",
    "        \n",
    "        # 目的: 找到要更新的量\n",
    "        nabla_ws = [np.zeros(w.shape) for w in self.weights]\n",
    "        nabla_bs = [np.zeros(b.shape) for b in self.biases]\n",
    "        \n",
    "        \n",
    "        # 循环所有训练数据\n",
    "        for x, y in zip(xs, ys):\n",
    "            delta_nabla_ws, delta_nabla_bs = self.backprop(x,y)\n",
    "            nabla_ws = [nw+dnw for nw, dnw in zip(nabla_ws, delta_nabla_ws)]\n",
    "            nabla_bs= [nb+dnb for nb, dnb in zip(nabla_bs, delta_nabla_bs)]\n",
    "        \n",
    "        # 更新参数， 使得网络的性能变得更好\n",
    "        self.weights = [weight - (lr/num_samples) * nabla_w for weight, nabla_w in zip(self.weights, nabla_ws)]\n",
    "        self.biases = [biase - (lr/num_samples) * nabla_b  for biase,  nabla_b in zip(self.biases, nabla_bs)] \n",
    "        \n",
    "    def sgd(self, xs, ys, lr, epochs, batch_size):\n",
    "        assert xs.shape[0] == ys.shape[0]\n",
    "        \n",
    "        #  打乱顺序\n",
    "        p = np.random.permutation(xs.shape[0])\n",
    "        xs, ys = xs[p], ys[p]\n",
    "        \n",
    "        # 一大堆训练数据分成很多小份\n",
    "        n = xs.shape[0]\n",
    "        xs_batches = [ xs[k:k+batch_size] for k in range(0, n, batch_size)]\n",
    "        ys_batches = [ ys[k:k+batch_size] for k in range(0, n, batch_size)]\n",
    "        for epoch in range(epochs):\n",
    "            for xs_batch, ys_batch in zip(xs_batches, ys_batches):\n",
    "                # 用一小份数据去更新参数\n",
    "                self.update(lr=lr, xs=xs_batch, ys=ys_batch)\n",
    "            loss = self.loss(xs=xs, ys=ys)\n",
    "            acc = self.acc(xs=xs, ys=ys)\n",
    "            print('epoch: {:<5}\\t loss: {:.4f}\\t acc: {:.4f}'.format(epoch+1, loss, acc))\n",
    "        "
   ]
  },
  {
   "cell_type": "code",
   "execution_count": 446,
   "metadata": {},
   "outputs": [],
   "source": [
    "net = network(sizes = [784, 30, 10])"
   ]
  },
  {
   "cell_type": "code",
   "execution_count": 447,
   "metadata": {
    "scrolled": true
   },
   "outputs": [
    {
     "name": "stdout",
     "output_type": "stream",
     "text": [
      "epoch: 1    \t loss: 0.2156\t acc: 0.6950\n",
      "epoch: 2    \t loss: 0.1638\t acc: 0.7703\n",
      "epoch: 3    \t loss: 0.1457\t acc: 0.7932\n",
      "epoch: 4    \t loss: 0.1349\t acc: 0.8054\n",
      "epoch: 5    \t loss: 0.1280\t acc: 0.8137\n",
      "epoch: 6    \t loss: 0.1230\t acc: 0.8195\n",
      "epoch: 7    \t loss: 0.1191\t acc: 0.8242\n",
      "epoch: 8    \t loss: 0.1159\t acc: 0.8275\n",
      "epoch: 9    \t loss: 0.1132\t acc: 0.8303\n",
      "epoch: 10   \t loss: 0.1110\t acc: 0.8329\n"
     ]
    }
   ],
   "source": [
    "net.sgd(xs=xs, ys=ys, lr=1, epochs=10, batch_size=30)"
   ]
  },
  {
   "cell_type": "markdown",
   "metadata": {},
   "source": [
    "# 接下来"
   ]
  },
  {
   "cell_type": "markdown",
   "metadata": {},
   "source": [
    "**理论**:\n",
    "\n",
    "- Hung-yi Lee 机器学习课程 https://www.youtube.com/c/HungyiLeeNTU\n",
    "\n",
    "\n",
    "**工具**:\n",
    "\n",
    "- https://www.tensorflow.org/\n",
    "<img src='https://www.gstatic.com/devrel-devsite/prod/v83c28b42a9d2de845cf6ea5b33e8c3314f0e1ea60229353829f7578993509959/tensorflow/images/lockup.svg' width='40%'/>\n",
    "- 或者 https://pytorch.org/ \n",
    "<img src='https://upload.wikimedia.org/wikipedia/commons/9/96/Pytorch_logo.png' width='40%'>\n",
    "\n",
    "\n",
    "**讨论**:\n",
    "\n",
    "- 课程讨论 https://github.com/way2ml/forum/discussions/13\n",
    "<img src='https://raw.githubusercontent.com/way2ml/forum/main/logo/forum_logo.png' width='50%'>\n",
    "- way2ml: https://www.way2ml.com/"
   ]
  },
  {
   "cell_type": "markdown",
   "metadata": {},
   "source": [
    "## 谢谢大家"
   ]
  },
  {
   "cell_type": "code",
   "execution_count": null,
   "metadata": {},
   "outputs": [],
   "source": []
  }
 ],
 "metadata": {
  "kernelspec": {
   "display_name": "Python 3",
   "language": "python",
   "name": "python3"
  },
  "language_info": {
   "codemirror_mode": {
    "name": "ipython",
    "version": 3
   },
   "file_extension": ".py",
   "mimetype": "text/x-python",
   "name": "python",
   "nbconvert_exporter": "python",
   "pygments_lexer": "ipython3",
   "version": "3.7.4"
  }
 },
 "nbformat": 4,
 "nbformat_minor": 4
}
