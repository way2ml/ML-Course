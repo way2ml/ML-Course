{
 "cells": [
  {
   "cell_type": "markdown",
   "metadata": {
    "slideshow": {
     "slide_type": "slide"
    }
   },
   "source": [
    "# Artificial Neural Networks: A Brief Introduction\n",
    "\n",
    "黄杰 2021.11"
   ]
  },
  {
   "cell_type": "markdown",
   "metadata": {
    "slideshow": {
     "slide_type": "slide"
    }
   },
   "source": [
    "**Machine Learning And Artificial Neural Networks**"
   ]
  },
  {
   "cell_type": "markdown",
   "metadata": {
    "slideshow": {
     "slide_type": "fragment"
    }
   },
   "source": [
    "- **Deep learning** is a branch of what is called **machine learning**. "
   ]
  },
  {
   "cell_type": "markdown",
   "metadata": {
    "slideshow": {
     "slide_type": "fragment"
    }
   },
   "source": [
    "- Machine learning  is \"field of study that gives computers the **ability to learn without being explicitly programmed**.\""
   ]
  },
  {
   "cell_type": "markdown",
   "metadata": {
    "slideshow": {
     "slide_type": "fragment"
    }
   },
   "source": [
    "- \"Let the machine automatically **gain the ability to extract the structure behind it and apply it to unknown situations.**\""
   ]
  },
  {
   "cell_type": "markdown",
   "metadata": {
    "slideshow": {
     "slide_type": "fragment"
    }
   },
   "source": [
    "- Artificial neural networks/Deep neural networks/Deep learning"
   ]
  },
  {
   "cell_type": "markdown",
   "metadata": {
    "slideshow": {
     "slide_type": "slide"
    }
   },
   "source": [
    "**Sigmoid Neuron**\n",
    "![](https://cdn.jsdelivr.net/gh/HuangJiaLian/DataBase0@master/uPic/2021_11_07_18_2021_11_01_11_3CIDZe.jpg)\n",
    "- Input： $x_1, x_2, ...\\in [0, 1]$\n",
    "- Weights and bias\n",
    "- Output/activation: $a = \\sigma \\left( \\sum_{j} w_{j} x_{j} + b = w \\cdot x + b \\right )$\n",
    "- Sigmoid function: $\\sigma(x) = \\frac{1}{1+e^{-x}}$"
   ]
  },
  {
   "cell_type": "markdown",
   "metadata": {
    "slideshow": {
     "slide_type": "slide"
    }
   },
   "source": [
    "**Sigmoid function**"
   ]
  },
  {
   "cell_type": "code",
   "execution_count": 1,
   "metadata": {
    "slideshow": {
     "slide_type": "skip"
    }
   },
   "outputs": [],
   "source": [
    "import numpy as np \n",
    "import matplotlib.pyplot as plt "
   ]
  },
  {
   "cell_type": "code",
   "execution_count": 2,
   "metadata": {
    "slideshow": {
     "slide_type": "fragment"
    }
   },
   "outputs": [
    {
     "data": {
      "image/png": "[encoded data removed]",
      "text/plain": [
       "<Figure size 432x288 with 1 Axes>"
      ]
     },
     "metadata": {
      "needs_background": "light"
     },
     "output_type": "display_data"
    }
   ],
   "source": [
    "x= np.linspace(-8, 8, 50)\n",
    "y = 1/(1+np.e**(-x))\n",
    "plt.ylabel('Sigmoid function $\\sigma (x)$')\n",
    "plt.xlabel('$x$')\n",
    "plt.text(5,0.9,'Activated', bbox=dict(facecolor='green', alpha=0.5))\n",
    "plt.text(-8,0.1,'Inactivated', bbox=dict(facecolor='red', alpha=0.5))\n",
    "plt.plot(x, y)\n",
    "plt.show()"
   ]
  },
  {
   "cell_type": "markdown",
   "metadata": {
    "slideshow": {
     "slide_type": "slide"
    }
   },
   "source": [
    "**The architecture of neural networks**"
   ]
  },
  {
   "cell_type": "markdown",
   "metadata": {
    "slideshow": {
     "slide_type": "fragment"
    }
   },
   "source": [
    "<img src='https://cdn.jsdelivr.net/gh/HuangJiaLian/DataBase0@master/uPic/2021_11_07_19_deep_neural_network_big.png' width='40%' />"
   ]
  },
  {
   "cell_type": "markdown",
   "metadata": {
    "slideshow": {
     "slide_type": "fragment"
    }
   },
   "source": [
    "- Input layer\n",
    "- Output layers\n",
    "- Hidden layer \n",
    "- Fully connected"
   ]
  },
  {
   "cell_type": "markdown",
   "metadata": {
    "slideshow": {
     "slide_type": "slide"
    }
   },
   "source": [
    "**Activations of  a layer**\n",
    "<img src='https://cdn.jsdelivr.net/gh/HuangJiaLian/DataBase0@master/uPic/2021_11_07_20_deep_neural_network_big.png' width='40%'/>"
   ]
  },
  {
   "cell_type": "markdown",
   "metadata": {
    "slideshow": {
     "slide_type": "fragment"
    }
   },
   "source": [
    "$a_{11} = \\sigma \\left ( w_{10}a_{00} + w_{11}a_{01} + w_{12}a_{02} + w_{13}a_{03} + b_{11}\\right )$ "
   ]
  },
  {
   "cell_type": "markdown",
   "metadata": {
    "slideshow": {
     "slide_type": "slide"
    }
   },
   "source": [
    "$\n",
    "\\left[\\begin{array}{l}a_{10} \\\\ a_{11} \\\\ a_{12} \\\\ a_{13} \\\\ a_{14} \\end{array}\\right]= \\sigma \\left ( \\left[\\begin{array}{llll}w_{00} & w_{01} & w_{02} & w_{13} \\\\ w_{10} & w_{11} & w_{12} & w_{13} \\\\ w_{20} & w_{21} & w_{22} & w_{23} \\\\ w_{30} & w_{31} & w_{32} & w_{33} \\\\ w_{40} & w_{41} & w_{42} & w_{43}\\end{array}\\right]\\left[\\begin{array}{l}a_{00} \\\\ a_{01} \\\\ a_{02} \\\\ a_{03}\\end{array}\\right]+\\left[\\begin{array}{l}b_{10} \\\\ b_{11} \\\\ b_{12} \\\\ b_{13} \\\\ b_{14}\\end{array}\\right] \\right )\n",
    "$"
   ]
  },
  {
   "cell_type": "markdown",
   "metadata": {
    "slideshow": {
     "slide_type": "fragment"
    }
   },
   "source": [
    "Number of layer 1 parameters: 5x4 + 5 = 25"
   ]
  },
  {
   "cell_type": "markdown",
   "metadata": {
    "slideshow": {
     "slide_type": "fragment"
    }
   },
   "source": [
    "Number of tatal parameters: 136"
   ]
  },
  {
   "cell_type": "markdown",
   "metadata": {
    "slideshow": {
     "slide_type": "slide"
    }
   },
   "source": [
    "**Using neural nets to recognize handwritten digits**\n",
    "![](https://cdn.jsdelivr.net/gh/HuangJiaLian/DataBase0@master/uPic/2021_11_07_15_0e0n5t.jpg)\n",
    "> Make everything as simple as possible, but not simpler.\n",
    "\n",
    "- Find circle in image"
   ]
  },
  {
   "cell_type": "markdown",
   "metadata": {
    "slideshow": {
     "slide_type": "slide"
    }
   },
   "source": [
    "## MNIST \n",
    "- Grey levels, 28x28\n",
    "- **Supervised** data $\\{\\textbf{x}[i],  \\textbf{y}[i]\\}_{i=1, 2, ..., N}$\n",
    "- $\\textbf x[i]$,the $i$-th data value; $\\textbf y[i]$, **label**\n",
    "- Data-label **pair**: Training sample/data\n",
    "![](https://cdn.jsdelivr.net/gh/HuangJiaLian/DataBase0@master/uPic/2021_11_07_16_kFu6OJ.jpg)\n"
   ]
  },
  {
   "cell_type": "markdown",
   "metadata": {
    "slideshow": {
     "slide_type": "subslide"
    }
   },
   "source": [
    "**Vectorizing input**"
   ]
  },
  {
   "cell_type": "code",
   "execution_count": 3,
   "metadata": {
    "slideshow": {
     "slide_type": "fragment"
    }
   },
   "outputs": [
    {
     "data": {
      "image/png": "[encoded data removed]",
      "text/plain": [
       "<Figure size 432x288 with 1 Axes>"
      ]
     },
     "metadata": {},
     "output_type": "display_data"
    }
   ],
   "source": [
    "x = np.array([[1, 0.5, 1],\n",
    "                        [0,   1,  0.5],\n",
    "                        [0,   0,     1]])\n",
    "plt.imshow(x, cmap=plt.get_cmap('gray'))\n",
    "plt.tick_params(left=False, labelleft=False, bottom=False, labelbottom=False)\n",
    "plt.show()"
   ]
  },
  {
   "cell_type": "code",
   "execution_count": 4,
   "metadata": {},
   "outputs": [
    {
     "data": {
      "image/png": "[encoded data removed]",
      "text/plain": [
       "<Figure size 432x288 with 1 Axes>"
      ]
     },
     "metadata": {},
     "output_type": "display_data"
    }
   ],
   "source": [
    "v_x = x.reshape((-1,1))\n",
    "plt.imshow(v_x, cmap=plt.get_cmap('gray'))\n",
    "plt.tick_params(left=False, labelleft=False, bottom=False, labelbottom=False)\n",
    "plt.show()"
   ]
  },
  {
   "cell_type": "markdown",
   "metadata": {
    "slideshow": {
     "slide_type": "subslide"
    }
   },
   "source": [
    "**One-hot representation of labels**"
   ]
  },
  {
   "cell_type": "code",
   "execution_count": 5,
   "metadata": {
    "slideshow": {
     "slide_type": "fragment"
    }
   },
   "outputs": [
    {
     "name": "stdout",
     "output_type": "stream",
     "text": [
      "Label:  0  in one-hot representation:  [1 0 0 0 0 0 0 0 0 0]\n",
      "Label:  1  in one-hot representation:  [0 1 0 0 0 0 0 0 0 0]\n",
      "Label:  2  in one-hot representation:  [0 0 1 0 0 0 0 0 0 0]\n",
      "Label:  3  in one-hot representation:  [0 0 0 1 0 0 0 0 0 0]\n",
      "Label:  4  in one-hot representation:  [0 0 0 0 1 0 0 0 0 0]\n",
      "Label:  5  in one-hot representation:  [0 0 0 0 0 1 0 0 0 0]\n",
      "Label:  6  in one-hot representation:  [0 0 0 0 0 0 1 0 0 0]\n",
      "Label:  7  in one-hot representation:  [0 0 0 0 0 0 0 1 0 0]\n",
      "Label:  8  in one-hot representation:  [0 0 0 0 0 0 0 0 1 0]\n",
      "Label:  9  in one-hot representation:  [0 0 0 0 0 0 0 0 0 1]\n"
     ]
    }
   ],
   "source": [
    "size = 10\n",
    "nums = np.arange(size)\n",
    "for label in range(size):\n",
    "    one_hot = (nums==label).astype(np.int)\n",
    "    print(\"Label: \", label, \" in one-hot representation: \", one_hot)"
   ]
  },
  {
   "cell_type": "code",
   "execution_count": 6,
   "metadata": {
    "slideshow": {
     "slide_type": "subslide"
    }
   },
   "outputs": [
    {
     "data": {
      "image/png": "[encoded data removed]",
      "text/plain": [
       "<Figure size 432x288 with 9 Axes>"
      ]
     },
     "metadata": {
      "needs_background": "light"
     },
     "output_type": "display_data"
    }
   ],
   "source": [
    "import mnist_loader\n",
    "import matplotlib.pyplot as plt \n",
    "import numpy as np \n",
    "\n",
    "# loading\n",
    "training_data, _, test_data = mnist_loader.load_data_wrapper()\n",
    "temp_train = list(training_data)\n",
    "temp_test = list(test_data)\n",
    "\n",
    "# print('Training Sample Number: ' + str(len(temp_train)))\n",
    "# print('Testing Sample Number: ' + str(len(temp_test)))\n",
    "\n",
    "\n",
    "# plotting\n",
    "for i in range(9):  \n",
    "    plt.subplot(3, 3, i+1)\n",
    "    plt.imshow(temp_train[i][0].reshape((28,28)), cmap=plt.get_cmap('gray'))\n",
    "    plt.ylabel('Lable: {}'.format(np.argmax(temp_train[i][1])))\n",
    "    plt.tick_params(bottom=False, labelbottom=False)\n",
    "plt.show()\n",
    "\n",
    "# # indexing\n",
    "# print(temp_train[0][0])\n",
    "# print(temp_train[0][1])"
   ]
  },
  {
   "cell_type": "markdown",
   "metadata": {
    "slideshow": {
     "slide_type": "slide"
    }
   },
   "source": [
    "## Neural Network Structure\n",
    "![](https://cdn.jsdelivr.net/gh/HuangJiaLian/DataBase0@master/uPic/2021_11_02_13_gakSOK.jpg)\n",
    "\n",
    "- A training input $x$ : A 28x28 = 784 dimensional vector.\n",
    "- The corresponding (lable) desired output: $y=y(x)$, where $y$ is a 10-dimensional vector.\n",
    "- Training sample"
   ]
  },
  {
   "cell_type": "markdown",
   "metadata": {
    "slideshow": {
     "slide_type": "slide"
    }
   },
   "source": [
    "## Objective\n",
    "We'd like is an algorithm which lets us find weights and biases so that the output from the network approximates $y(x)$ for all training inputs $x$. \n",
    "\n",
    "To quantify how well we're achieving this goal we define a cost function:\n",
    "\n",
    "$$\n",
    "C(w, b) \\equiv \\frac{1}{n} \\sum_{x} C_{x} = \\frac{1}{2 n} \\sum_{x}\\|y(x)-a_{w,b}(x)\\|^{2}\n",
    "$$\n",
    "\n",
    "- $w$, the collection of all weights in the network\n",
    "- $b$, all the biases\n",
    "- $n$, the total number of training inputs\n",
    "- $a$, the vector of outputs from the network when $x$ is input\n",
    "- Notation $\\|v\\|$ denotes the usual length function for a vector $v$.\n",
    "- This cost function is also sometimes knowns as the mean squared error or MSE."
   ]
  },
  {
   "cell_type": "markdown",
   "metadata": {},
   "source": [
    "## How to find the right weights and biases?\n",
    "Recapping, our goal in training a neural network is to find weights and biases which minimize the cost function $C(w,b)$. \n",
    "\n",
    "$$\n",
    "w^{*}, b^{*}=\\arg \\min _{w, b} C(w,b)\n",
    "$$\n",
    "\n",
    "Okay, let's suppose we're trying to minimize some function, $C(v)$. This could be any real-valued function of many variables, $v=v1,v2,….$\n",
    "\n",
    "<img src='https://cdn.jsdelivr.net/gh/HuangJiaLian/DataBase0@master/uPic/2021_11_08_11_grediant.png' width = '50%'/>\n",
    "\n",
    "$$\n",
    "\\Delta C \\approx \\frac{\\partial C}{\\partial v_{1}} \\Delta v_{1}+\\frac{\\partial C}{\\partial v_{2}} \\Delta v_{2}\n",
    "$$\n",
    "\n",
    "We'll also define the **gradient** of $C$ to be the vector of partial derivatives, \n",
    "\n",
    "$$\n",
    "\\nabla C \\equiv\\left(\\frac{\\partial C}{\\partial v_{1}}, \\frac{\\partial C}{\\partial v_{2}}\\right)^{T}\n",
    "$$\n",
    "\n",
    "$$\n",
    "\\Delta C \\approx \\nabla C \\cdot \\Delta v\n",
    "$$"
   ]
  },
  {
   "cell_type": "markdown",
   "metadata": {
    "slideshow": {
     "slide_type": "slide"
    }
   },
   "source": [
    "## Update policy\n",
    "Choose \n",
    "$$\n",
    "\\Delta v=-\\eta \\nabla C\n",
    "$$\n",
    "\n",
    "$$\n",
    "\\Delta C \\approx-\\eta \\nabla C \\cdot \\nabla C=-\\eta\\|\\nabla C\\|^{2}\n",
    "$$\n",
    "\n",
    "$$\n",
    "v \\rightarrow v^{\\prime}=v-\\eta \\nabla C\n",
    "$$\n",
    "\n",
    "If we keep doing this, over and over, we'll keep decreasing $C$ until - we hope - we reach a global minimum.\n",
    "\n",
    "$$\n",
    "w_{k} \\rightarrow w_{k}^{\\prime}=w_{k}-\\eta \\frac{\\partial C}{\\partial w_{k}}\n",
    "$$\n",
    "\n",
    "$$\n",
    "b_{l} \\rightarrow b_{l}^{\\prime}=b_{l}-\\eta \\frac{\\partial C}{\\partial b_{l}}\n",
    "$$\n",
    "\n",
    "- **Gradient descent**\n",
    "- **Trianing**/learning process\n",
    "- **Learning rate** $\\eta$"
   ]
  },
  {
   "cell_type": "markdown",
   "metadata": {
    "slideshow": {
     "slide_type": "slide"
    }
   },
   "source": [
    "## Stochastic gradient descent\n",
    "$$\n",
    "C=\\frac{1}{n} \\sum_{x} C_{x}\n",
    "$$\n",
    "\n",
    "$$\n",
    "C_{x} \\equiv \\frac{\\|y(x)-a\\|^{2}}{2}\n",
    "$$\n",
    "\n",
    "In practice, to compute the gradient $\\nabla C$ we need to compute the gradients $\\nabla C_{x}$ separately for each training input, $x$, and then average them, $\\nabla C=\\frac{1}{n} \\sum_{x} \\nabla C_{x}$.\n",
    "\n",
    "We'll label those random training inputs $X_1$,$X_2$,…,$X_m$, and refer to them as a mini-batch.\n",
    "\n",
    "$$\n",
    "\\frac{\\sum_{j=1}^{m} \\nabla C_{X_{j}}}{m} \\approx \\frac{\\sum_{x} \\nabla C_{x}}{n}=\\nabla C\n",
    "$$\n",
    "\n",
    "$$\n",
    "\\nabla C \\approx \\frac{1}{m} \\sum_{j=1}^{m} \\nabla C_{X_{j}}\n",
    "$$\n",
    "\n",
    "- Batch size\n",
    "- Epoch"
   ]
  },
  {
   "cell_type": "code",
   "execution_count": 28,
   "metadata": {},
   "outputs": [
    {
     "data": {
      "image/png": "[encoded data removed]",
      "text/plain": [
       "<Figure size 432x288 with 35 Axes>"
      ]
     },
     "metadata": {},
     "output_type": "display_data"
    }
   ],
   "source": [
    "import random\n",
    "indexes = np.arange(35)\n",
    "random.shuffle(indexes)\n",
    "for j, i in zip(range(35), indexes):  \n",
    "    plt.subplot(5, 7, j+1)\n",
    "    plt.imshow(temp_train[i][0].reshape((28,28)), cmap=plt.get_cmap('gray'))\n",
    "    plt.tick_params(bottom=False, left=False, labelbottom=False, labelleft=False)\n",
    "plt.show()"
   ]
  },
  {
   "cell_type": "markdown",
   "metadata": {
    "slideshow": {
     "slide_type": "slide"
    }
   },
   "source": [
    "## Implementing our network to classify digits\n",
    "- Load training data \n",
    "- Training\n",
    "- Save & load"
   ]
  },
  {
   "cell_type": "code",
   "execution_count": 29,
   "metadata": {},
   "outputs": [],
   "source": [
    "import mnist_loader\n",
    "import network"
   ]
  },
  {
   "cell_type": "code",
   "execution_count": 30,
   "metadata": {},
   "outputs": [],
   "source": [
    "# Loading training data\n",
    "training_data, validation_data, test_data = mnist_loader.load_data_wrapper()"
   ]
  },
  {
   "cell_type": "code",
   "execution_count": 31,
   "metadata": {},
   "outputs": [],
   "source": [
    "# Building network\n",
    "net = network.Network([784, 30, 10])"
   ]
  },
  {
   "cell_type": "code",
   "execution_count": 32,
   "metadata": {},
   "outputs": [
    {
     "name": "stdout",
     "output_type": "stream",
     "text": [
      "Epoch 0 : 9033 / 10000\n",
      "Epoch 1 : 9167 / 10000\n",
      "Epoch 2 : 9248 / 10000\n",
      "Epoch 3 : 9376 / 10000\n",
      "Epoch 4 : 9322 / 10000\n",
      "Epoch 5 : 9401 / 10000\n",
      "Epoch 6 : 9458 / 10000\n",
      "Epoch 7 : 9419 / 10000\n",
      "Epoch 8 : 9455 / 10000\n",
      "Epoch 9 : 9471 / 10000\n",
      "Epoch 10 : 9466 / 10000\n",
      "Epoch 11 : 9441 / 10000\n",
      "Epoch 12 : 9442 / 10000\n",
      "Epoch 13 : 9466 / 10000\n",
      "Epoch 14 : 9452 / 10000\n",
      "Epoch 15 : 9451 / 10000\n",
      "Epoch 16 : 9485 / 10000\n",
      "Epoch 17 : 9471 / 10000\n",
      "Epoch 18 : 9478 / 10000\n",
      "Epoch 19 : 9458 / 10000\n",
      "Epoch 20 : 9474 / 10000\n",
      "Epoch 21 : 9479 / 10000\n",
      "Epoch 22 : 9455 / 10000\n",
      "Epoch 23 : 9478 / 10000\n",
      "Epoch 24 : 9498 / 10000\n",
      "Epoch 25 : 9486 / 10000\n",
      "Epoch 26 : 9466 / 10000\n",
      "Epoch 27 : 9488 / 10000\n",
      "Epoch 28 : 9505 / 10000\n",
      "Epoch 29 : 9496 / 10000\n"
     ]
    }
   ],
   "source": [
    "# Training\n",
    "net.SGD(training_data, 30, 10, 3.0, test_data=test_data)"
   ]
  },
  {
   "cell_type": "code",
   "execution_count": 33,
   "metadata": {},
   "outputs": [
    {
     "name": "stdout",
     "output_type": "stream",
     "text": [
      "Model saved.\n"
     ]
    }
   ],
   "source": [
    "# Saving model\n",
    "net.save_model()"
   ]
  },
  {
   "cell_type": "code",
   "execution_count": 58,
   "metadata": {},
   "outputs": [
    {
     "name": "stdout",
     "output_type": "stream",
     "text": [
      "(784, 1)\n",
      "4\n"
     ]
    },
    {
     "data": {
      "image/png": "[encoded data removed]",
      "text/plain": [
       "<Figure size 432x288 with 1 Axes>"
      ]
     },
     "metadata": {
      "needs_background": "light"
     },
     "output_type": "display_data"
    },
    {
     "name": "stdout",
     "output_type": "stream",
     "text": [
      "[[8.72252230e-07]\n",
      " [8.29349080e-13]\n",
      " [4.54916386e-07]\n",
      " [5.83219621e-08]\n",
      " [9.99024783e-01]\n",
      " [2.77419120e-05]\n",
      " [2.46722433e-05]\n",
      " [5.03179870e-05]\n",
      " [5.38387459e-04]\n",
      " [1.11244964e-04]]\n"
     ]
    },
    {
     "data": {
      "image/png": "[encoded data removed]",
      "text/plain": [
       "<Figure size 432x288 with 1 Axes>"
      ]
     },
     "metadata": {
      "needs_background": "light"
     },
     "output_type": "display_data"
    },
    {
     "name": "stdout",
     "output_type": "stream",
     "text": [
      "The prediction: 4\n"
     ]
    }
   ],
   "source": [
    "# Pridicting\n",
    "testing_sample = temp_test[6]\n",
    "x = testing_sample[0]\n",
    "lable = testing_sample[1]\n",
    "print(x.shape)\n",
    "print(lable)\n",
    "plt.imshow(x.reshape((28,28)), cmap=plt.get_cmap('gray'))\n",
    "plt.show()\n",
    "\n",
    "output = net.feedforward(x)\n",
    "print(output)\n",
    "plt.plot(output)\n",
    "plt.show()\n",
    "\n",
    "print('The prediction: {}'.format(np.argmax(output)))"
   ]
  },
  {
   "cell_type": "code",
   "execution_count": 68,
   "metadata": {},
   "outputs": [
    {
     "data": {
      "image/png": "[encoded data removed]",
      "text/plain": [
       "<Figure size 432x288 with 1 Axes>"
      ]
     },
     "metadata": {
      "needs_background": "light"
     },
     "output_type": "display_data"
    },
    {
     "name": "stdout",
     "output_type": "stream",
     "text": [
      "[[6.50277630e-06]\n",
      " [1.60273189e-06]\n",
      " [1.07238503e-10]\n",
      " [4.48787838e-03]\n",
      " [8.35547143e-08]\n",
      " [1.54552278e-03]\n",
      " [2.14836460e-02]\n",
      " [9.71924702e-02]\n",
      " [2.54372562e-04]\n",
      " [3.53744684e-08]]\n"
     ]
    },
    {
     "data": {
      "image/png": "[encoded data removed]",
      "text/plain": [
       "<Figure size 432x288 with 1 Axes>"
      ]
     },
     "metadata": {
      "needs_background": "light"
     },
     "output_type": "display_data"
    },
    {
     "name": "stdout",
     "output_type": "stream",
     "text": [
      "The prediction: 7\n"
     ]
    }
   ],
   "source": [
    "# Pridicting\n",
    "x = np.load('test_img.npy')\n",
    "plt.imshow(x.reshape((28,28)), cmap=plt.get_cmap('gray'))\n",
    "plt.show()\n",
    "\n",
    "output = net.feedforward(x)\n",
    "print(output)\n",
    "plt.plot(output)\n",
    "plt.show()\n",
    "print('The prediction: {}'.format(np.argmax(output)))"
   ]
  },
  {
   "cell_type": "code",
   "execution_count": 105,
   "metadata": {},
   "outputs": [
    {
     "data": {
      "image/png": "[encoded data removed]",
      "text/plain": [
       "<Figure size 432x288 with 1 Axes>"
      ]
     },
     "metadata": {
      "needs_background": "light"
     },
     "output_type": "display_data"
    },
    {
     "name": "stdout",
     "output_type": "stream",
     "text": [
      "[[1.46613939e-05]\n",
      " [5.60052276e-11]\n",
      " [9.35174879e-06]\n",
      " [7.61283760e-05]\n",
      " [1.11740028e-04]\n",
      " [1.73657848e-04]\n",
      " [3.04819594e-05]\n",
      " [1.31991707e-08]\n",
      " [9.37065390e-01]\n",
      " [6.42074409e-05]]\n"
     ]
    },
    {
     "data": {
      "image/png": "[encoded data removed]",
      "text/plain": [
       "<Figure size 432x288 with 1 Axes>"
      ]
     },
     "metadata": {
      "needs_background": "light"
     },
     "output_type": "display_data"
    },
    {
     "name": "stdout",
     "output_type": "stream",
     "text": [
      "The prediction: 8\n"
     ]
    }
   ],
   "source": [
    "import numpy as np\n",
    "import cv2\n",
    "import matplotlib.pyplot as plt\n",
    "\n",
    "# reads image as grayscale\n",
    "x = cv2.imread('test_imgs/8.png', 0) \n",
    "x = 255. - x\n",
    "x = x/255.\n",
    "x = cv2.resize(x, (28,28), interpolation= cv2.INTER_LINEAR)\n",
    "plt.imshow(x, cmap='gray')\n",
    "plt.show()\n",
    "\n",
    "\n",
    "x = x.reshape((-1,1))\n",
    "output = net.feedforward(x)\n",
    "print(output)\n",
    "plt.plot(output)\n",
    "plt.show()\n",
    "print('The prediction: {}'.format(np.argmax(output)))"
   ]
  },
  {
   "cell_type": "markdown",
   "metadata": {
    "slideshow": {
     "slide_type": "slide"
    }
   },
   "source": [
    "# Summary\n",
    "1. The architecture of neural networks\n",
    "2. A classification problems using neural networks"
   ]
  },
  {
   "cell_type": "code",
   "execution_count": null,
   "metadata": {},
   "outputs": [],
   "source": []
  }
 ],
 "metadata": {
  "celltoolbar": "幻灯片",
  "kernelspec": {
   "display_name": "Python 3",
   "language": "python",
   "name": "python3"
  },
  "language_info": {
   "codemirror_mode": {
    "name": "ipython",
    "version": 3
   },
   "file_extension": ".py",
   "mimetype": "text/x-python",
   "name": "python",
   "nbconvert_exporter": "python",
   "pygments_lexer": "ipython3",
   "version": "3.7.7"
  }
 },
 "nbformat": 4,
 "nbformat_minor": 4
}
